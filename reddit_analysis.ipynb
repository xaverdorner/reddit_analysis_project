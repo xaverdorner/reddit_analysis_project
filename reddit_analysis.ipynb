{
 "cells": [
  {
   "cell_type": "code",
   "execution_count": 1,
   "metadata": {},
   "outputs": [
    {
     "name": "stderr",
     "output_type": "stream",
     "text": [
      "\n",
      "Bad key \"text.kerning_factor\" on line 4 in\n",
      "/opt/anaconda3/envs/reddit/lib/python3.7/site-packages/matplotlib/mpl-data/stylelib/_classic_test_patch.mplstyle.\n",
      "You probably need to get an updated matplotlibrc file from\n",
      "https://github.com/matplotlib/matplotlib/blob/v3.1.3/matplotlibrc.template\n",
      "or from the matplotlib source distribution\n"
     ]
    }
   ],
   "source": [
    "import pandas as pd\n",
    "import datetime as dt\n",
    "import time\n",
    "import praw\n",
    "import matplotlib.pyplot as plt\n",
    "import seaborn as sns\n",
    "import config"
   ]
  },
  {
   "cell_type": "code",
   "execution_count": 2,
   "metadata": {},
   "outputs": [],
   "source": [
    "reddit = praw.Reddit(client_id=config.CLIENT_ID, \\\n",
    "                     client_secret=config.CLIENT_SECRET, \\\n",
    "                     user_agent=config.USER_AGENT, \\\n",
    "                     username=config.USERNAME, \\\n",
    "                     password=config.PASSWORD)"
   ]
  },
  {
   "cell_type": "markdown",
   "metadata": {},
   "source": [
    "#### Utility functions: dataframes, time converter and timestamper"
   ]
  },
  {
   "cell_type": "code",
   "execution_count": 3,
   "metadata": {},
   "outputs": [],
   "source": [
    "# dictionary to dataframe for better readability\n",
    "\n",
    "def dict_to_frame(red_dict):\n",
    "    \"\"\"takes a dictionary with a 'created' key and\n",
    "    outpurs a datagframe with human readable time\"\"\"\n",
    "    frame = pd.DataFrame(red_dict)\n",
    "    if 'created' in red_dict:\n",
    "        frame['created'] = frame['created'].apply(get_date)\n",
    "    return frame"
   ]
  },
  {
   "cell_type": "code",
   "execution_count": 4,
   "metadata": {},
   "outputs": [],
   "source": [
    "# a function that adds a timestamp to a string\n",
    "def timestamper():\n",
    "    \"\"\"returns a string of a timestamp: year, month, day\"\"\"\n",
    "    timestamp = dt.datetime.now()\n",
    "    return str(dt.date(timestamp.year, timestamp.month, timestamp.day))"
   ]
  },
  {
   "cell_type": "code",
   "execution_count": 72,
   "metadata": {},
   "outputs": [],
   "source": [
    "def get_date(created):\n",
    "    \"\"\"takes a unix timestamp and converts it to date time\"\"\"\n",
    "    return dt.datetime.fromtimestamp(created)"
   ]
  },
  {
   "cell_type": "markdown",
   "metadata": {},
   "source": [
    "#### Author analysis: all subreddit authors, most popular authors, author details"
   ]
  },
  {
   "cell_type": "code",
   "execution_count": 6,
   "metadata": {},
   "outputs": [],
   "source": [
    "# author comment extraction function \n",
    "\n",
    "def author_comments(author):\n",
    "    \"\"\"takes a reddit user name and \n",
    "    returns a dataframe of the 'new' the author's comments with score and creation date\"\"\"\n",
    "    author_dict = {\"body\":[], \"score\":[], \"created\": []}\n",
    "    for comment in reddit.redditor(author).comments.new(limit=None):\n",
    "        author_dict['body'].append(comment.body),\n",
    "        author_dict['score'].append(comment.score),\n",
    "        author_dict['created'].append(comment.created)\n",
    "    author_frame = pd.DataFrame(author_dict)\n",
    "    author_frame['created'] = author_frame['created'].apply(get_date)\n",
    "    return author_frame"
   ]
  },
  {
   "cell_type": "code",
   "execution_count": 7,
   "metadata": {},
   "outputs": [],
   "source": [
    "# extracting all commentors of a 100 submission subset of a subreddit and their scores \n",
    "\n",
    "def subreddit_authors(data_frame):\n",
    "    \"\"\"takes a dataframe of submissions (needs 'id') in a subreddit, iterates over all comments in all submission,\n",
    "    outputs a dictionary of authors and their number of comment & their accumulated score\"\"\"\n",
    "    author_dict = {}\n",
    "    # iterating over all submission in a subreddit dataframe\n",
    "    for sub in data_frame['id'][:1]:\n",
    "        submission = reddit.submission(sub)\n",
    "        # iterating over all comments within a submission \n",
    "        submission.comments.replace_more(limit=None)\n",
    "        for comment in submission.comments.list():\n",
    "            if str(comment.author) in author_dict.keys():\n",
    "                author_dict[str(comment.author)][0] += 1\n",
    "                author_dict[str(comment.author)][1] += comment.score\n",
    "            else:\n",
    "                # creating a first entry if the author is not yet in the dict\n",
    "                author_dict[str(comment.author)] = [1, comment.score]\n",
    "    return author_dict"
   ]
  },
  {
   "cell_type": "code",
   "execution_count": 8,
   "metadata": {},
   "outputs": [],
   "source": [
    "# a function to scrape the detailed data of the top 25 weekly redditors \n",
    "\n",
    "def top_redditor_scraper(redditor_list):\n",
    "    \"\"\"Takes a list of usernames and outputs\n",
    "    a dictionary with author key and cake day, link and comment karma\"\"\"\n",
    "    detail_dict = {}\n",
    "    for author in top_reds.index[:25]:\n",
    "        try:\n",
    "            created = get_date(reddit.redditor(author).created)\n",
    "            link_karma = reddit.redditor(author).link_karma \n",
    "            comment_karma = reddit.redditor(author).comment_karma\n",
    "            detail_dict[author] = [created, link_karma, comment_karma]\n",
    "        except:\n",
    "            detail_dict[author] = [None, None, None]\n",
    "    return detail_dict"
   ]
  },
  {
   "cell_type": "markdown",
   "metadata": {},
   "source": [
    "#### Subreddit & submission analysis: most popular submissions, all comments from an author "
   ]
  },
  {
   "cell_type": "code",
   "execution_count": 9,
   "metadata": {},
   "outputs": [],
   "source": [
    "def subreddit_submissions(subreddit):\n",
    "    \"\"\"takes a subreddit and outputs a\n",
    "    dataframe with the 100 hottest posts\"\"\"\n",
    "    topics_dict = {\"title\":[], \"author\": [], \"score\":[], \"id\":[], \"url\":[], \"comms_num\": [], \\\n",
    "                \"created\": [], \"body\":[]}\n",
    "    for submission in subreddit.hot(limit=100):\n",
    "        topics_dict[\"title\"].append(submission.title)\n",
    "        topics_dict[\"author\"].append(submission.author)\n",
    "        topics_dict[\"score\"].append(submission.score)\n",
    "        topics_dict[\"id\"].append(submission.id)\n",
    "        topics_dict[\"url\"].append(submission.url)\n",
    "        topics_dict[\"comms_num\"].append(submission.num_comments)\n",
    "        topics_dict[\"created\"].append(submission.created)\n",
    "        topics_dict[\"body\"].append(submission.selftext)\n",
    "    topic_frame = pd.DataFrame(topics_dict)\n",
    "    return topic_frame"
   ]
  },
  {
   "cell_type": "code",
   "execution_count": 71,
   "metadata": {},
   "outputs": [],
   "source": [
    "# creating a function that collects all comments from a submission\n",
    "\n",
    "def submission_comments(submission):\n",
    "    \"\"\"takes a submission (reddit.submission) and outputs\n",
    "    a dataframe of all comments in that submission\"\"\"\n",
    "    comment_dict = {\"body\":[], \"score\":[], \"author\":[], \"created\": []}\n",
    "    submission.comments.replace_more(limit=None)\n",
    "    for comment in submission.comments.list():\n",
    "        comment_dict['body'].append(comment.body),\n",
    "        comment_dict['score'].append(comment.score),\n",
    "        comment_dict['author'].append(comment.author),\n",
    "        comment_dict['created'].append(comment.created)\n",
    "    comment_frame = pd.DataFrame(comment_dict)\n",
    "    comment_frame['created'] = comment_frame['created'].apply(get_date)\n",
    "    comment_frame['author'] = comment_frame['author'].apply(lambda x: x.name)\n",
    "    return comment_frame"
   ]
  },
  {
   "cell_type": "code",
   "execution_count": 11,
   "metadata": {},
   "outputs": [],
   "source": [
    "de_sub = reddit.subreddit('de')"
   ]
  },
  {
   "cell_type": "code",
   "execution_count": 13,
   "metadata": {},
   "outputs": [
    {
     "data": {
      "text/plain": [
       "(4277, 264878)"
      ]
     },
     "execution_count": 13,
     "metadata": {},
     "output_type": "execute_result"
    }
   ],
   "source": [
    "de_sub.accounts_active, de_sub.subscribers"
   ]
  },
  {
   "cell_type": "markdown",
   "metadata": {},
   "source": [
    "### r/dataisbeautiful analysis"
   ]
  },
  {
   "cell_type": "code",
   "execution_count": 56,
   "metadata": {},
   "outputs": [],
   "source": [
    "test_redditor = reddit.redditor('DukeMactavish')"
   ]
  },
  {
   "cell_type": "code",
   "execution_count": 34,
   "metadata": {},
   "outputs": [],
   "source": [
    "# get individual submission \n",
    "\n",
    "data_discussion_post = reddit.submission('gdbaiz')"
   ]
  },
  {
   "cell_type": "code",
   "execution_count": 70,
   "metadata": {},
   "outputs": [],
   "source": [
    "# get all comments in a submission\n",
    "\n",
    "discussion_comments = submission_comments(data_discussion_post)"
   ]
  },
  {
   "cell_type": "code",
   "execution_count": 65,
   "metadata": {},
   "outputs": [],
   "source": [
    "discussion_comments['author'] = discussion_comments['author'].apply(lambda x: x.name)"
   ]
  },
  {
   "cell_type": "code",
   "execution_count": 68,
   "metadata": {},
   "outputs": [
    {
     "data": {
      "text/plain": [
       "author\n",
       "2134123412341234      1\n",
       "pierre_x10            1\n",
       "jtg123g               1\n",
       "ilikemusicandgame     1\n",
       "gints                 1\n",
       "flurbius              1\n",
       "fast_edo              1\n",
       "dummy_thiqq           1\n",
       "alsocomfy             1\n",
       "Zarricaron            1\n",
       "TradingToni           1\n",
       "vikram201112018       1\n",
       "TheNajeeb             1\n",
       "Prudent-Gain101       1\n",
       "Mildly_Upset_Toast    1\n",
       "Halstrop              1\n",
       "Electric_sheeples     1\n",
       "DukeMactavish         1\n",
       "Brittle_Panda         1\n",
       "Azzozs                1\n",
       "AVLien                1\n",
       "yeuxwbbw              1\n",
       "DinosaurAssassin      2\n",
       "Barnst                2\n",
       "ranginpanda           2\n",
       "Puppies4Lovies        2\n",
       "Name: author, dtype: int64"
      ]
     },
     "execution_count": 68,
     "metadata": {},
     "output_type": "execute_result"
    }
   ],
   "source": [
    "discussion_comments.groupby('author')['author'].count().sort_values()"
   ]
  },
  {
   "cell_type": "code",
   "execution_count": 14,
   "metadata": {},
   "outputs": [],
   "source": [
    "# get the subreddit\n",
    "\n",
    "beautidata = reddit.subreddit('dataisbeautiful')"
   ]
  },
  {
   "cell_type": "code",
   "execution_count": 15,
   "metadata": {},
   "outputs": [],
   "source": [
    "# step one: get all hot & all new submissions\n",
    "\n",
    "hot_submissions = subreddit_submissions(beautidata)"
   ]
  },
  {
   "cell_type": "code",
   "execution_count": 17,
   "metadata": {},
   "outputs": [],
   "source": [
    "# wrinting a dataframe to disk\n",
    "#hot_submissions.to_csv(f'top100_beautifuldata_{timestamper()}.csv', header=True)"
   ]
  },
  {
   "cell_type": "markdown",
   "metadata": {},
   "source": [
    "### Comparing dataframes of 2 consecutive days"
   ]
  },
  {
   "cell_type": "code",
   "execution_count": 18,
   "metadata": {},
   "outputs": [],
   "source": [
    "# reading in the dataframes \n",
    "\n",
    "hot_10may = pd.read_csv('top100_beautifuldata_2020-05-09.csv', index_col=0)\n",
    "hot_9may = pd.read_csv('top100_beautifuldata_2020-05-10.csv', index_col=0)"
   ]
  },
  {
   "cell_type": "code",
   "execution_count": 19,
   "metadata": {},
   "outputs": [
    {
     "data": {
      "text/html": [
       "<div>\n",
       "<style scoped>\n",
       "    .dataframe tbody tr th:only-of-type {\n",
       "        vertical-align: middle;\n",
       "    }\n",
       "\n",
       "    .dataframe tbody tr th {\n",
       "        vertical-align: top;\n",
       "    }\n",
       "\n",
       "    .dataframe thead th {\n",
       "        text-align: right;\n",
       "    }\n",
       "</style>\n",
       "<table border=\"1\" class=\"dataframe\">\n",
       "  <thead>\n",
       "    <tr style=\"text-align: right;\">\n",
       "      <th></th>\n",
       "      <th>title</th>\n",
       "      <th>author</th>\n",
       "      <th>score</th>\n",
       "      <th>id</th>\n",
       "      <th>url</th>\n",
       "      <th>comms_num</th>\n",
       "      <th>created</th>\n",
       "      <th>body</th>\n",
       "    </tr>\n",
       "  </thead>\n",
       "  <tbody>\n",
       "    <tr>\n",
       "      <th>0</th>\n",
       "      <td>[Topic][Open] Open Discussion Monday — Anybody...</td>\n",
       "      <td>AutoModerator</td>\n",
       "      <td>25</td>\n",
       "      <td>gdbaiz</td>\n",
       "      <td>https://www.reddit.com/r/dataisbeautiful/comme...</td>\n",
       "      <td>30</td>\n",
       "      <td>2020-05-04 23:08:17</td>\n",
       "      <td>Anybody can post a Dataviz-related question or...</td>\n",
       "    </tr>\n",
       "    <tr>\n",
       "      <th>1</th>\n",
       "      <td>[Battle] Data Viz Battle Winners of April 2020!</td>\n",
       "      <td>Brittle_Panda</td>\n",
       "      <td>27</td>\n",
       "      <td>ge4n8r</td>\n",
       "      <td>https://www.reddit.com/r/dataisbeautiful/comme...</td>\n",
       "      <td>4</td>\n",
       "      <td>2020-05-06 05:47:06</td>\n",
       "      <td>[Hello there](https://i.imgur.com/3QeRlCQ.jpg)...</td>\n",
       "    </tr>\n",
       "    <tr>\n",
       "      <th>2</th>\n",
       "      <td>[OC] The remarkable decline in child mortality...</td>\n",
       "      <td>toddrjones</td>\n",
       "      <td>30147</td>\n",
       "      <td>gg5m68</td>\n",
       "      <td>https://i.redd.it/nulc5rai0nx41.gif</td>\n",
       "      <td>1048</td>\n",
       "      <td>2020-05-09 10:54:29</td>\n",
       "      <td>NaN</td>\n",
       "    </tr>\n",
       "    <tr>\n",
       "      <th>3</th>\n",
       "      <td>[OC] I made a lyrical analysis &amp; statistics da...</td>\n",
       "      <td>mochizuki</td>\n",
       "      <td>812</td>\n",
       "      <td>ggdvsg</td>\n",
       "      <td>https://i.redd.it/jao1aoru5qx41.png</td>\n",
       "      <td>67</td>\n",
       "      <td>2020-05-09 21:29:10</td>\n",
       "      <td>NaN</td>\n",
       "    </tr>\n",
       "    <tr>\n",
       "      <th>4</th>\n",
       "      <td>[OC] Visualizing of the most used words in hea...</td>\n",
       "      <td>dudumm</td>\n",
       "      <td>521</td>\n",
       "      <td>ggcxx2</td>\n",
       "      <td>https://i.redd.it/6mygbuesrpx41.png</td>\n",
       "      <td>46</td>\n",
       "      <td>2020-05-09 20:10:04</td>\n",
       "      <td>NaN</td>\n",
       "    </tr>\n",
       "  </tbody>\n",
       "</table>\n",
       "</div>"
      ],
      "text/plain": [
       "                                               title         author  score  \\\n",
       "0  [Topic][Open] Open Discussion Monday — Anybody...  AutoModerator     25   \n",
       "1    [Battle] Data Viz Battle Winners of April 2020!  Brittle_Panda     27   \n",
       "2  [OC] The remarkable decline in child mortality...     toddrjones  30147   \n",
       "3  [OC] I made a lyrical analysis & statistics da...      mochizuki    812   \n",
       "4  [OC] Visualizing of the most used words in hea...         dudumm    521   \n",
       "\n",
       "       id                                                url  comms_num  \\\n",
       "0  gdbaiz  https://www.reddit.com/r/dataisbeautiful/comme...         30   \n",
       "1  ge4n8r  https://www.reddit.com/r/dataisbeautiful/comme...          4   \n",
       "2  gg5m68                https://i.redd.it/nulc5rai0nx41.gif       1048   \n",
       "3  ggdvsg                https://i.redd.it/jao1aoru5qx41.png         67   \n",
       "4  ggcxx2                https://i.redd.it/6mygbuesrpx41.png         46   \n",
       "\n",
       "               created                                               body  \n",
       "0  2020-05-04 23:08:17  Anybody can post a Dataviz-related question or...  \n",
       "1  2020-05-06 05:47:06  [Hello there](https://i.imgur.com/3QeRlCQ.jpg)...  \n",
       "2  2020-05-09 10:54:29                                                NaN  \n",
       "3  2020-05-09 21:29:10                                                NaN  \n",
       "4  2020-05-09 20:10:04                                                NaN  "
      ]
     },
     "execution_count": 19,
     "metadata": {},
     "output_type": "execute_result"
    }
   ],
   "source": [
    "hot_10may.head()"
   ]
  },
  {
   "cell_type": "code",
   "execution_count": 24,
   "metadata": {},
   "outputs": [
    {
     "data": {
      "text/html": [
       "<div>\n",
       "<style scoped>\n",
       "    .dataframe tbody tr th:only-of-type {\n",
       "        vertical-align: middle;\n",
       "    }\n",
       "\n",
       "    .dataframe tbody tr th {\n",
       "        vertical-align: top;\n",
       "    }\n",
       "\n",
       "    .dataframe thead th {\n",
       "        text-align: right;\n",
       "    }\n",
       "</style>\n",
       "<table border=\"1\" class=\"dataframe\">\n",
       "  <thead>\n",
       "    <tr style=\"text-align: right;\">\n",
       "      <th></th>\n",
       "      <th>title</th>\n",
       "      <th>author</th>\n",
       "      <th>score</th>\n",
       "      <th>id</th>\n",
       "      <th>url</th>\n",
       "      <th>comms_num</th>\n",
       "      <th>created</th>\n",
       "      <th>body</th>\n",
       "    </tr>\n",
       "  </thead>\n",
       "  <tbody>\n",
       "    <tr>\n",
       "      <th>0</th>\n",
       "      <td>[Topic][Open] Open Discussion Monday — Anybody...</td>\n",
       "      <td>AutoModerator</td>\n",
       "      <td>30</td>\n",
       "      <td>gdbaiz</td>\n",
       "      <td>https://www.reddit.com/r/dataisbeautiful/comme...</td>\n",
       "      <td>33</td>\n",
       "      <td>1.588626e+09</td>\n",
       "      <td>Anybody can post a Dataviz-related question or...</td>\n",
       "    </tr>\n",
       "    <tr>\n",
       "      <th>1</th>\n",
       "      <td>[Battle] Data Viz Battle Winners of April 2020!</td>\n",
       "      <td>Brittle_Panda</td>\n",
       "      <td>35</td>\n",
       "      <td>ge4n8r</td>\n",
       "      <td>https://www.reddit.com/r/dataisbeautiful/comme...</td>\n",
       "      <td>4</td>\n",
       "      <td>1.588737e+09</td>\n",
       "      <td>[Hello there](https://i.imgur.com/3QeRlCQ.jpg)...</td>\n",
       "    </tr>\n",
       "    <tr>\n",
       "      <th>2</th>\n",
       "      <td>[OC] life expectancy over last 65 years</td>\n",
       "      <td>karthikvcp</td>\n",
       "      <td>5433</td>\n",
       "      <td>gguaz1</td>\n",
       "      <td>https://v.redd.it/zin787no0vx41</td>\n",
       "      <td>276</td>\n",
       "      <td>1.589111e+09</td>\n",
       "      <td>NaN</td>\n",
       "    </tr>\n",
       "    <tr>\n",
       "      <th>3</th>\n",
       "      <td>[OC] Every Subgenre of Music</td>\n",
       "      <td>reteps144</td>\n",
       "      <td>4758</td>\n",
       "      <td>ggmull</td>\n",
       "      <td>https://i.redd.it/b9uekzkjssx41.jpg</td>\n",
       "      <td>524</td>\n",
       "      <td>1.589084e+09</td>\n",
       "      <td>NaN</td>\n",
       "    </tr>\n",
       "    <tr>\n",
       "      <th>4</th>\n",
       "      <td>[OC] I made a lyrical analysis &amp; statistics da...</td>\n",
       "      <td>mochizuki</td>\n",
       "      <td>16362</td>\n",
       "      <td>ggdvsg</td>\n",
       "      <td>https://i.redd.it/jao1aoru5qx41.png</td>\n",
       "      <td>648</td>\n",
       "      <td>1.589053e+09</td>\n",
       "      <td>NaN</td>\n",
       "    </tr>\n",
       "  </tbody>\n",
       "</table>\n",
       "</div>"
      ],
      "text/plain": [
       "                                               title         author  score  \\\n",
       "0  [Topic][Open] Open Discussion Monday — Anybody...  AutoModerator     30   \n",
       "1    [Battle] Data Viz Battle Winners of April 2020!  Brittle_Panda     35   \n",
       "2            [OC] life expectancy over last 65 years     karthikvcp   5433   \n",
       "3                       [OC] Every Subgenre of Music      reteps144   4758   \n",
       "4  [OC] I made a lyrical analysis & statistics da...      mochizuki  16362   \n",
       "\n",
       "       id                                                url  comms_num  \\\n",
       "0  gdbaiz  https://www.reddit.com/r/dataisbeautiful/comme...         33   \n",
       "1  ge4n8r  https://www.reddit.com/r/dataisbeautiful/comme...          4   \n",
       "2  gguaz1                    https://v.redd.it/zin787no0vx41        276   \n",
       "3  ggmull                https://i.redd.it/b9uekzkjssx41.jpg        524   \n",
       "4  ggdvsg                https://i.redd.it/jao1aoru5qx41.png        648   \n",
       "\n",
       "        created                                               body  \n",
       "0  1.588626e+09  Anybody can post a Dataviz-related question or...  \n",
       "1  1.588737e+09  [Hello there](https://i.imgur.com/3QeRlCQ.jpg)...  \n",
       "2  1.589111e+09                                                NaN  \n",
       "3  1.589084e+09                                                NaN  \n",
       "4  1.589053e+09                                                NaN  "
      ]
     },
     "execution_count": 24,
     "metadata": {},
     "output_type": "execute_result"
    }
   ],
   "source": [
    "hot_9may.head()"
   ]
  },
  {
   "cell_type": "code",
   "execution_count": 25,
   "metadata": {},
   "outputs": [],
   "source": [
    "duplicates = [i for i in hot_10may['title'].values if i in hot_9may['title'].values]"
   ]
  },
  {
   "cell_type": "code",
   "execution_count": 26,
   "metadata": {},
   "outputs": [
    {
     "data": {
      "text/plain": [
       "['[Topic][Open] Open Discussion Monday — Anybody can post a general visualization question or start a fresh discussion!',\n",
       " '[Battle] Data Viz Battle Winners of April 2020!',\n",
       " '[OC] The remarkable decline in child mortality, where each dot is a country.',\n",
       " '[OC] I made a lyrical analysis & statistics database for 50 hiphop artists as a text mining exercise. Here is Mac Miller',\n",
       " '[OC] Visualizing of the most used words in headlines of r/floridaman except florida man',\n",
       " '[OC] Minnesota Topography',\n",
       " '[OC] My experience with cheating in the upper echelons of Counter-Strike: Global Offensive',\n",
       " 'Colours in Bible (in order) [OC]',\n",
       " '[OC] Contiguous US and the continental shelf, elevation along latitudes between 20°N and 50°N',\n",
       " '[OC] Every color in Moby-Dick (in order)',\n",
       " '[OC] It took 5 years to build the number of jobs lost in only 4 months from COVID-19 in Canada',\n",
       " '[OC] Countries with Lowest Birth Rates (1900-2020+) - Shows Worldwide Birth Rates on the Decline',\n",
       " 'Quarantine project: taping together 10 FAA sectional charts of the 4 Corners states [OC]',\n",
       " '[OC] Metal Albums per 1M per year',\n",
       " \"[OC] Anscombe's Quartet - This is why we visualize\",\n",
       " '[OC] England and Wales weekly mortality rate from 2010 to 2020',\n",
       " 'Most popular states for people leaving New York (2018) [OC]',\n",
       " '[OC] Michigan Topography',\n",
       " '14.7% Unemployment; 20.5 Million Jobs Wiped Away',\n",
       " '[OC] Animation showing the increase in unemployment over the past 7 weeks since Covid-19 lockdowns came into force',\n",
       " '[OC] The Evolution of Bitcoin and Cryptocurrencies | Marketcap',\n",
       " '[OC] COVID19: Impact of Social Distancing and Population Age on Fatality Rate',\n",
       " '[OC] Predominant colors on Monet and Picasso paintings',\n",
       " '[OC] COVID-19 containment in different countries across the world',\n",
       " '[OC] Colours in War of the Worlds (in order).',\n",
       " '[OC] Cumulative corona virus cases occurred in march 2020 in various countries',\n",
       " '[OC] Percentage of Americans with Polish ancestry by county in 2018',\n",
       " 'COVID-19 Mortality vs. Median Age of Population, Per Country [OC]',\n",
       " '[OC] Yet more elevation lines (this time with underwater data!)',\n",
       " '[OC] WIP visualization of my spotify songs (details in comments)',\n",
       " '[OC] COVID-19 Confirmed Cases and Deaths per Population Size (Animation)',\n",
       " 'Interactions Between Characters in \"The Office\" [OC]',\n",
       " 'Visualizing job data released today in context of previous recessions [OC]',\n",
       " 'Majority Language by Census Division in Canada [OC]',\n",
       " '[OC] States with the greatest number of plant-based restaurants per capita [UPDATE]',\n",
       " '[OC] Jeep Cherokee used car listings price vs mileage (last one).',\n",
       " '[OC] Proportion of seats held by women in national parliaments',\n",
       " 'Star Wars The Clone Wars IMDb User Ratings [OC]',\n",
       " '[OC] Least populated counties in the United States (population <10,000 residents)',\n",
       " 'Median Household Income by Census Division in Canada [OC]',\n",
       " 'Median Rent by county [OC]',\n",
       " '33.5 million people have filed for unemployment in the last 7 weeks, equal to *every single worker* losing their job in California and Texas, the two most populous states [OC]',\n",
       " '[OC] BMW X5 used car listings price vs mileage.',\n",
       " \"[OC] The Attacking Efficiency of each football team in Europe's top 5 leagues\",\n",
       " '[OC] Pokemon Type Combinations (Gen 1-8 Update ) [link in comments]',\n",
       " 'Confirmed COVID-19 Cases in the U.S.',\n",
       " 'State unemployment rates, February vs. March 2020 [OC]',\n",
       " '[OC] A 3D visualization of covid19 evolution in cities of Brazil [link in comments]',\n",
       " '[OC] Most common chronic diseases in in those who died with COVID-19',\n",
       " \"[OC] Worldwide COVID-19 spread visualization with R - AnalyzeCore by Sergey Bryl' - data is beautiful, data is a story\",\n",
       " 'Why 1.4 Million Health Jobs Have Been Lost During a Huge Health Crisis',\n",
       " '[OC] Subaru Crosstrek used car listings price vs mileage.',\n",
       " '[OC] How stringent has the UK coronavirus lockdown been?',\n",
       " '[OC] Electricity carbon density in 2019 for the 5 most populous EU countries',\n",
       " '[OC] Swarm plots to visualize distribution of scores (here: how efficient a multi-armed bandit was)',\n",
       " '[OC] lines of elevation of the Americas from 60° S to 60° N',\n",
       " '[OC] frequency of the mega ball in mega millions',\n",
       " '[OC] Number of characters in government website domain name',\n",
       " 'My friend is really interested in how statistics factors into clinical psychology and wants to know how what field of study he should go into to aid in psychological research through numbers. Any advice here?',\n",
       " '[OC] USA monthly job creation, 2000 - present',\n",
       " '[OC] Total COVID-19 Infections by Country - 5 months in 4 minutes',\n",
       " '[OC] Corona in the Netherlands from 15 March up till 7 May - Made with R gganimate',\n",
       " '[OC] Height vs. Income Inequality',\n",
       " '[OC] Number of chronic diseases in those who died with COVID-19',\n",
       " '[OC] Here is a map gif I made of confirmed cases by county. Data from NYT. Made using folium. Comment for code!',\n",
       " 'I built an interactive dashboard tracking the ongoing COVID-19 research effort [OC]',\n",
       " 'Genomic tracking SARS-CoV-2 evolution and spread',\n",
       " '[OC] The Strokes - Song Popularity by Album',\n",
       " 'Mark Cuban hired secret shoppers to evaluate reopening procedures in Dallas. Beautiful charts and data presentations.',\n",
       " '% Change in Population 2011-2016 by Canadian Census Divison [OC]',\n",
       " '[OC] Text messaging frequency with my significant other']"
      ]
     },
     "execution_count": 26,
     "metadata": {},
     "output_type": "execute_result"
    }
   ],
   "source": [
    "duplicates"
   ]
  },
  {
   "cell_type": "code",
   "execution_count": 27,
   "metadata": {},
   "outputs": [
    {
     "data": {
      "text/plain": [
       "71"
      ]
     },
     "execution_count": 27,
     "metadata": {},
     "output_type": "execute_result"
    }
   ],
   "source": [
    "len(duplicates)"
   ]
  },
  {
   "cell_type": "code",
   "execution_count": null,
   "metadata": {},
   "outputs": [],
   "source": []
  }
 ],
 "metadata": {
  "kernelspec": {
   "display_name": "Python 3",
   "language": "python",
   "name": "python3"
  },
  "language_info": {
   "codemirror_mode": {
    "name": "ipython",
    "version": 3
   },
   "file_extension": ".py",
   "mimetype": "text/x-python",
   "name": "python",
   "nbconvert_exporter": "python",
   "pygments_lexer": "ipython3",
   "version": "3.7.7"
  }
 },
 "nbformat": 4,
 "nbformat_minor": 4
}
