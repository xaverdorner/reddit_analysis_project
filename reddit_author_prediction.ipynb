{
 "cells": [
  {
   "cell_type": "code",
   "execution_count": 1,
   "metadata": {},
   "outputs": [],
   "source": [
    "import pandas as pd\n",
    "\n",
    "# train / test split \n",
    "from sklearn.model_selection import train_test_split\n",
    "\n",
    "# Importing necessary libraries\n",
    "from sklearn.naive_bayes import MultinomialNB\n",
    "from sklearn.linear_model import LogisticRegression\n",
    "from sklearn.feature_extraction.text import TfidfVectorizer\n",
    "from sklearn.pipeline import make_pipeline\n",
    "\n",
    "# evaluation \n",
    "from sklearn import metrics \n",
    "from sklearn.metrics import log_loss\n",
    "from sklearn.metrics import classification_report"
   ]
  },
  {
   "cell_type": "markdown",
   "metadata": {},
   "source": [
    "# Task: Building an author-identifyer programm\n",
    "- for each subreddit AUTOMATICALLY find redditor wiht highest score/most comments\n",
    "- train a model on that author. That would the \"author x or not\"-model (there has to be a better multiclass way to do this)\n",
    "- scan all comments in controversial in that same subreddit\n"
   ]
  },
  {
   "cell_type": "markdown",
   "metadata": {},
   "source": [
    "### Preparing the dataset"
   ]
  },
  {
   "cell_type": "code",
   "execution_count": 2,
   "metadata": {},
   "outputs": [],
   "source": [
    "# import the 2 dataframes of 2 redditors and combine them\n",
    "\n",
    "spez = pd.read_csv('spez_comments.csv',index_col=0)\n",
    "chop = pd.read_csv('chop_comments.csv',index_col=0)"
   ]
  },
  {
   "cell_type": "code",
   "execution_count": 3,
   "metadata": {},
   "outputs": [],
   "source": [
    "spez['author'] = 0\n",
    "chop['author'] = 1"
   ]
  },
  {
   "cell_type": "code",
   "execution_count": 4,
   "metadata": {},
   "outputs": [
    {
     "data": {
      "text/plain": [
       "((750, 4), (847, 4))"
      ]
     },
     "execution_count": 4,
     "metadata": {},
     "output_type": "execute_result"
    }
   ],
   "source": [
    "spez.shape, chop.shape"
   ]
  },
  {
   "cell_type": "code",
   "execution_count": 5,
   "metadata": {},
   "outputs": [
    {
     "data": {
      "text/plain": [
       "1597"
      ]
     },
     "execution_count": 5,
     "metadata": {},
     "output_type": "execute_result"
    }
   ],
   "source": [
    "spez.shape[0]+chop.shape[0]"
   ]
  },
  {
   "cell_type": "code",
   "execution_count": 6,
   "metadata": {},
   "outputs": [
    {
     "data": {
      "text/html": [
       "<div>\n",
       "<style scoped>\n",
       "    .dataframe tbody tr th:only-of-type {\n",
       "        vertical-align: middle;\n",
       "    }\n",
       "\n",
       "    .dataframe tbody tr th {\n",
       "        vertical-align: top;\n",
       "    }\n",
       "\n",
       "    .dataframe thead th {\n",
       "        text-align: right;\n",
       "    }\n",
       "</style>\n",
       "<table border=\"1\" class=\"dataframe\">\n",
       "  <thead>\n",
       "    <tr style=\"text-align: right;\">\n",
       "      <th></th>\n",
       "      <th>body</th>\n",
       "      <th>score</th>\n",
       "      <th>created</th>\n",
       "      <th>author</th>\n",
       "    </tr>\n",
       "  </thead>\n",
       "  <tbody>\n",
       "    <tr>\n",
       "      <th>0</th>\n",
       "      <td>Think it only works on desktop:\\n\\nhttps://old...</td>\n",
       "      <td>363</td>\n",
       "      <td>2020-02-25 12:57:46</td>\n",
       "      <td>0</td>\n",
       "    </tr>\n",
       "    <tr>\n",
       "      <th>1</th>\n",
       "      <td>&gt; Did you ever imagine 14 years ago that you w...</td>\n",
       "      <td>983</td>\n",
       "      <td>2020-02-25 09:29:49</td>\n",
       "      <td>0</td>\n",
       "    </tr>\n",
       "    <tr>\n",
       "      <th>2</th>\n",
       "      <td>We're working on a new version of mweb as we s...</td>\n",
       "      <td>282</td>\n",
       "      <td>2020-02-25 09:19:11</td>\n",
       "      <td>0</td>\n",
       "    </tr>\n",
       "    <tr>\n",
       "      <th>3</th>\n",
       "      <td>\\&gt; Have any communities EVER been unquarantine...</td>\n",
       "      <td>713</td>\n",
       "      <td>2020-02-25 07:55:18</td>\n",
       "      <td>0</td>\n",
       "    </tr>\n",
       "    <tr>\n",
       "      <th>4</th>\n",
       "      <td>For the most part, I don't admin flag jokes.</td>\n",
       "      <td>271</td>\n",
       "      <td>2020-02-25 07:52:09</td>\n",
       "      <td>0</td>\n",
       "    </tr>\n",
       "    <tr>\n",
       "      <th>...</th>\n",
       "      <td>...</td>\n",
       "      <td>...</td>\n",
       "      <td>...</td>\n",
       "      <td>...</td>\n",
       "    </tr>\n",
       "    <tr>\n",
       "      <th>1592</th>\n",
       "      <td>Long haul trucker here... \\n\\nI've been doing ...</td>\n",
       "      <td>2</td>\n",
       "      <td>2018-08-12 05:32:10</td>\n",
       "      <td>1</td>\n",
       "    </tr>\n",
       "    <tr>\n",
       "      <th>1593</th>\n",
       "      <td>A little slice of paradise.</td>\n",
       "      <td>1</td>\n",
       "      <td>2018-08-11 12:53:38</td>\n",
       "      <td>1</td>\n",
       "    </tr>\n",
       "    <tr>\n",
       "      <th>1594</th>\n",
       "      <td>It's a dog inside a dog\\n\\nDogception</td>\n",
       "      <td>1</td>\n",
       "      <td>2017-03-21 21:06:42</td>\n",
       "      <td>1</td>\n",
       "    </tr>\n",
       "    <tr>\n",
       "      <th>1595</th>\n",
       "      <td>If you come from a religious background...\\n\\n...</td>\n",
       "      <td>-1</td>\n",
       "      <td>2017-03-20 00:44:54</td>\n",
       "      <td>1</td>\n",
       "    </tr>\n",
       "    <tr>\n",
       "      <th>1596</th>\n",
       "      <td>Haha someone drew Dan Biltzerian's legs on thi...</td>\n",
       "      <td>3</td>\n",
       "      <td>2017-03-03 04:49:58</td>\n",
       "      <td>1</td>\n",
       "    </tr>\n",
       "  </tbody>\n",
       "</table>\n",
       "<p>1597 rows × 4 columns</p>\n",
       "</div>"
      ],
      "text/plain": [
       "                                                   body  score  \\\n",
       "0     Think it only works on desktop:\\n\\nhttps://old...    363   \n",
       "1     > Did you ever imagine 14 years ago that you w...    983   \n",
       "2     We're working on a new version of mweb as we s...    282   \n",
       "3     \\> Have any communities EVER been unquarantine...    713   \n",
       "4          For the most part, I don't admin flag jokes.    271   \n",
       "...                                                 ...    ...   \n",
       "1592  Long haul trucker here... \\n\\nI've been doing ...      2   \n",
       "1593                        A little slice of paradise.      1   \n",
       "1594              It's a dog inside a dog\\n\\nDogception      1   \n",
       "1595  If you come from a religious background...\\n\\n...     -1   \n",
       "1596  Haha someone drew Dan Biltzerian's legs on thi...      3   \n",
       "\n",
       "                  created  author  \n",
       "0     2020-02-25 12:57:46       0  \n",
       "1     2020-02-25 09:29:49       0  \n",
       "2     2020-02-25 09:19:11       0  \n",
       "3     2020-02-25 07:55:18       0  \n",
       "4     2020-02-25 07:52:09       0  \n",
       "...                   ...     ...  \n",
       "1592  2018-08-12 05:32:10       1  \n",
       "1593  2018-08-11 12:53:38       1  \n",
       "1594  2017-03-21 21:06:42       1  \n",
       "1595  2017-03-20 00:44:54       1  \n",
       "1596  2017-03-03 04:49:58       1  \n",
       "\n",
       "[1597 rows x 4 columns]"
      ]
     },
     "execution_count": 6,
     "metadata": {},
     "output_type": "execute_result"
    }
   ],
   "source": [
    "two_authors = pd.merge(spez, chop, how='outer')\n",
    "two_authors"
   ]
  },
  {
   "cell_type": "code",
   "execution_count": 7,
   "metadata": {},
   "outputs": [
    {
     "data": {
      "text/plain": [
       "author\n",
       "0    750\n",
       "1    847\n",
       "Name: author, dtype: int64"
      ]
     },
     "execution_count": 7,
     "metadata": {},
     "output_type": "execute_result"
    }
   ],
   "source": [
    "# are the classes balanced? \n",
    "\n",
    "class_dist = two_authors.groupby('author')['author'].count()\n",
    "class_dist"
   ]
  },
  {
   "cell_type": "code",
   "execution_count": 8,
   "metadata": {},
   "outputs": [
    {
     "name": "stdout",
     "output_type": "stream",
     "text": [
      "spez: 0.47%\n",
      "chop: 0.53%\n"
     ]
    }
   ],
   "source": [
    "# distribution of the two authors \n",
    "spez_dist = class_dist[0]/two_authors.shape[0]\n",
    "chop_dist = class_dist[1]/two_authors.shape[0]\n",
    "\n",
    "print(f'spez: {spez_dist:.2f}%\\nchop: {chop_dist:.2f}%')"
   ]
  },
  {
   "cell_type": "code",
   "execution_count": 9,
   "metadata": {},
   "outputs": [],
   "source": [
    "# train test split \n",
    "\n",
    "X_train, X_test, y_train, y_test = train_test_split(two_authors['body'], \n",
    "                                                    two_authors['author'], \n",
    "                                                    test_size=0.20, \n",
    "                                                    random_state=42)"
   ]
  },
  {
   "cell_type": "markdown",
   "metadata": {},
   "source": [
    "### Definfing models to predict author"
   ]
  },
  {
   "cell_type": "code",
   "execution_count": 10,
   "metadata": {},
   "outputs": [],
   "source": [
    "# prediction the probability of a certain class\n",
    "\n",
    "nb = MultinomialNB()\n",
    "tfidf = TfidfVectorizer(min_df=2, stop_words='english')\n",
    "Xtrain_trans = tfidf.fit_transform(X_train) \n",
    "X_test_trans = tfidf.transform(X_test)"
   ]
  },
  {
   "cell_type": "code",
   "execution_count": 11,
   "metadata": {},
   "outputs": [],
   "source": [
    "# fitting the bayes' model on it \n",
    "\n",
    "fit_bayes = nb.fit(Xtrain_trans, y_train)"
   ]
  },
  {
   "cell_type": "code",
   "execution_count": 12,
   "metadata": {},
   "outputs": [],
   "source": [
    "y_proba = fit_bayes.predict_proba(X_test_trans)"
   ]
  },
  {
   "cell_type": "code",
   "execution_count": 13,
   "metadata": {},
   "outputs": [
    {
     "data": {
      "text/plain": [
       "array([1, 1, 0, 0, 1, 1, 1, 0, 0, 1, 0, 1, 1, 0, 0, 1, 0, 1, 0, 0, 0, 0,\n",
       "       1, 0, 0, 0, 0, 0, 0, 0, 1, 1, 1, 1, 0, 0, 1, 1, 1, 1, 0, 0, 0, 0,\n",
       "       1, 0, 0, 0, 0, 1, 0, 1, 1, 0, 0, 1, 1, 1, 0, 1, 0, 1, 0, 1, 1, 0,\n",
       "       0, 0, 1, 0, 1, 0, 0, 1, 1, 0, 1, 1, 1, 1, 1, 1, 0, 1, 0, 1, 1, 1,\n",
       "       0, 1, 0, 0, 1, 1, 0, 1, 1, 1, 1, 0, 1, 1, 1, 1, 1, 0, 0, 0, 0, 0,\n",
       "       0, 1, 1, 1, 1, 0, 1, 0, 0, 0, 1, 0, 1, 0, 0, 0, 1, 1, 0, 1, 0, 1,\n",
       "       1, 0, 1, 0, 1, 1, 0, 0, 0, 0, 1, 0, 0, 0, 1, 1, 0, 0, 1, 1, 1, 1,\n",
       "       0, 1, 0, 0, 1, 1, 1, 1, 1, 0, 1, 1, 0, 0, 1, 0, 1, 1, 1, 1, 1, 0,\n",
       "       0, 1, 0, 1, 0, 0, 1, 1, 1, 1, 1, 0, 1, 1, 1, 1, 0, 1, 0, 1, 1, 1,\n",
       "       0, 1, 1, 0, 0, 0, 1, 1, 1, 0, 0, 0, 1, 0, 0, 1, 1, 1, 0, 1, 1, 0,\n",
       "       0, 1, 1, 0, 0, 0, 1, 1, 0, 1, 0, 0, 1, 1, 0, 1, 1, 0, 0, 0, 1, 1,\n",
       "       1, 1, 0, 0, 1, 0, 1, 1, 0, 0, 0, 1, 1, 0, 1, 1, 0, 1, 1, 1, 0, 1,\n",
       "       1, 1, 1, 0, 1, 0, 1, 0, 1, 0, 0, 1, 0, 1, 0, 0, 1, 1, 1, 0, 1, 0,\n",
       "       0, 0, 0, 1, 1, 1, 0, 1, 0, 1, 0, 1, 1, 1, 0, 0, 1, 0, 0, 0, 1, 0,\n",
       "       1, 1, 1, 1, 1, 0, 0, 1, 1, 1, 1, 0])"
      ]
     },
     "execution_count": 13,
     "metadata": {},
     "output_type": "execute_result"
    }
   ],
   "source": [
    "y_pred =  fit_bayes.predict(X_test_trans)\n",
    "y_pred"
   ]
  },
  {
   "cell_type": "code",
   "execution_count": 14,
   "metadata": {},
   "outputs": [
    {
     "data": {
      "text/plain": [
       "array([[0.46436962, 0.53563038],\n",
       "       [0.3554    , 0.6446    ],\n",
       "       [0.72212928, 0.27787072],\n",
       "       [0.64482287, 0.35517713],\n",
       "       [0.21418321, 0.78581679],\n",
       "       [0.10960869, 0.89039131],\n",
       "       [0.40305981, 0.59694019],\n",
       "       [0.64346743, 0.35653257],\n",
       "       [0.63770898, 0.36229102],\n",
       "       [0.41997   , 0.58003   ],\n",
       "       [0.583574  , 0.416426  ],\n",
       "       [0.35357557, 0.64642443],\n",
       "       [0.17335655, 0.82664345],\n",
       "       [0.63186538, 0.36813462],\n",
       "       [0.97493118, 0.02506882],\n",
       "       [0.16076553, 0.83923447],\n",
       "       [0.6929605 , 0.3070395 ],\n",
       "       [0.31233391, 0.68766609],\n",
       "       [0.5309102 , 0.4690898 ],\n",
       "       [0.83299016, 0.16700984],\n",
       "       [0.73479086, 0.26520914],\n",
       "       [0.76791973, 0.23208027],\n",
       "       [0.3756634 , 0.6243366 ],\n",
       "       [0.70317648, 0.29682352],\n",
       "       [0.63028351, 0.36971649],\n",
       "       [0.5839129 , 0.4160871 ],\n",
       "       [0.60405351, 0.39594649],\n",
       "       [0.60405351, 0.39594649],\n",
       "       [0.92072744, 0.07927256],\n",
       "       [0.97406088, 0.02593912],\n",
       "       [0.27633493, 0.72366507],\n",
       "       [0.18786997, 0.81213003],\n",
       "       [0.46436962, 0.53563038],\n",
       "       [0.48412685, 0.51587315],\n",
       "       [0.87992015, 0.12007985],\n",
       "       [0.99011769, 0.00988231],\n",
       "       [0.20565842, 0.79434158],\n",
       "       [0.2182161 , 0.7817839 ],\n",
       "       [0.09024503, 0.90975497],\n",
       "       [0.10880467, 0.89119533],\n",
       "       [0.9384779 , 0.0615221 ],\n",
       "       [0.77990305, 0.22009695],\n",
       "       [0.77339966, 0.22660034],\n",
       "       [0.72908596, 0.27091404],\n",
       "       [0.46436962, 0.53563038],\n",
       "       [0.94723109, 0.05276891],\n",
       "       [0.78545231, 0.21454769],\n",
       "       [0.96738712, 0.03261288],\n",
       "       [0.71722737, 0.28277263],\n",
       "       [0.29405579, 0.70594421],\n",
       "       [0.70986385, 0.29013615],\n",
       "       [0.10323919, 0.89676081],\n",
       "       [0.23917501, 0.76082499],\n",
       "       [0.60022076, 0.39977924],\n",
       "       [0.71010394, 0.28989606],\n",
       "       [0.42610745, 0.57389255],\n",
       "       [0.41812378, 0.58187622],\n",
       "       [0.12110831, 0.87889169],\n",
       "       [0.53795678, 0.46204322],\n",
       "       [0.46436962, 0.53563038],\n",
       "       [0.94928918, 0.05071082],\n",
       "       [0.13160125, 0.86839875],\n",
       "       [0.63441158, 0.36558842],\n",
       "       [0.36647746, 0.63352254],\n",
       "       [0.19024255, 0.80975745],\n",
       "       [0.89587683, 0.10412317],\n",
       "       [0.58552865, 0.41447135],\n",
       "       [0.97286746, 0.02713254],\n",
       "       [0.1722185 , 0.8277815 ],\n",
       "       [0.67621979, 0.32378021],\n",
       "       [0.47140501, 0.52859499],\n",
       "       [0.92636214, 0.07363786],\n",
       "       [0.52937211, 0.47062789],\n",
       "       [0.36711303, 0.63288697],\n",
       "       [0.11535801, 0.88464199],\n",
       "       [0.74195652, 0.25804348],\n",
       "       [0.42909462, 0.57090538],\n",
       "       [0.46436962, 0.53563038],\n",
       "       [0.2164602 , 0.7835398 ],\n",
       "       [0.46436962, 0.53563038],\n",
       "       [0.34695809, 0.65304191],\n",
       "       [0.22198423, 0.77801577],\n",
       "       [0.52216905, 0.47783095],\n",
       "       [0.39327663, 0.60672337],\n",
       "       [0.99337129, 0.00662871],\n",
       "       [0.49903074, 0.50096926],\n",
       "       [0.46436962, 0.53563038],\n",
       "       [0.39720763, 0.60279237],\n",
       "       [0.60037052, 0.39962948],\n",
       "       [0.46436962, 0.53563038],\n",
       "       [0.96459562, 0.03540438],\n",
       "       [0.9860751 , 0.0139249 ],\n",
       "       [0.46436962, 0.53563038],\n",
       "       [0.49918111, 0.50081889],\n",
       "       [0.84202278, 0.15797722],\n",
       "       [0.14323695, 0.85676305],\n",
       "       [0.45409771, 0.54590229],\n",
       "       [0.46436962, 0.53563038],\n",
       "       [0.43380628, 0.56619372],\n",
       "       [0.7350327 , 0.2649673 ],\n",
       "       [0.32404421, 0.67595579],\n",
       "       [0.46860447, 0.53139553],\n",
       "       [0.05276479, 0.94723521],\n",
       "       [0.39329202, 0.60670798],\n",
       "       [0.3184671 , 0.6815329 ],\n",
       "       [0.80618683, 0.19381317],\n",
       "       [0.64673743, 0.35326257],\n",
       "       [0.85880193, 0.14119807],\n",
       "       [0.68909823, 0.31090177],\n",
       "       [0.86426006, 0.13573994],\n",
       "       [0.95538718, 0.04461282],\n",
       "       [0.01890532, 0.98109468],\n",
       "       [0.34898981, 0.65101019],\n",
       "       [0.22198423, 0.77801577],\n",
       "       [0.46436962, 0.53563038],\n",
       "       [0.79085109, 0.20914891],\n",
       "       [0.4579676 , 0.5420324 ],\n",
       "       [0.69621994, 0.30378006],\n",
       "       [0.85247082, 0.14752918],\n",
       "       [0.77059435, 0.22940565],\n",
       "       [0.17157034, 0.82842966],\n",
       "       [0.90966044, 0.09033956],\n",
       "       [0.39972638, 0.60027362],\n",
       "       [0.6775628 , 0.3224372 ],\n",
       "       [0.78737205, 0.21262795],\n",
       "       [0.64631961, 0.35368039],\n",
       "       [0.46436962, 0.53563038],\n",
       "       [0.12695549, 0.87304451],\n",
       "       [0.90800949, 0.09199051],\n",
       "       [0.26522229, 0.73477771],\n",
       "       [0.89708302, 0.10291698],\n",
       "       [0.22757621, 0.77242379],\n",
       "       [0.29333917, 0.70666083],\n",
       "       [0.87966524, 0.12033476],\n",
       "       [0.4564091 , 0.5435909 ],\n",
       "       [0.83139049, 0.16860951],\n",
       "       [0.13208623, 0.86791377],\n",
       "       [0.10042568, 0.89957432],\n",
       "       [0.83764583, 0.16235417],\n",
       "       [0.75026532, 0.24973468],\n",
       "       [0.98770974, 0.01229026],\n",
       "       [0.9579495 , 0.0420505 ],\n",
       "       [0.22270175, 0.77729825],\n",
       "       [0.98638539, 0.01361461],\n",
       "       [0.65437058, 0.34562942],\n",
       "       [0.92390396, 0.07609604],\n",
       "       [0.06480083, 0.93519917],\n",
       "       [0.31547971, 0.68452029],\n",
       "       [0.57802608, 0.42197392],\n",
       "       [0.6618602 , 0.3381398 ],\n",
       "       [0.25887584, 0.74112416],\n",
       "       [0.24083517, 0.75916483],\n",
       "       [0.33089666, 0.66910334],\n",
       "       [0.18183811, 0.81816189],\n",
       "       [0.83214936, 0.16785064],\n",
       "       [0.3365879 , 0.6634121 ],\n",
       "       [0.9387044 , 0.0612956 ],\n",
       "       [0.76024929, 0.23975071],\n",
       "       [0.04945059, 0.95054941],\n",
       "       [0.37158616, 0.62841384],\n",
       "       [0.13653208, 0.86346792],\n",
       "       [0.23107072, 0.76892928],\n",
       "       [0.47430222, 0.52569778],\n",
       "       [0.80447232, 0.19552768],\n",
       "       [0.37433817, 0.62566183],\n",
       "       [0.12317797, 0.87682203],\n",
       "       [0.50137467, 0.49862533],\n",
       "       [0.62471087, 0.37528913],\n",
       "       [0.19763843, 0.80236157],\n",
       "       [0.89685296, 0.10314704],\n",
       "       [0.36625416, 0.63374584],\n",
       "       [0.13661438, 0.86338562],\n",
       "       [0.30710729, 0.69289271],\n",
       "       [0.0533083 , 0.9466917 ],\n",
       "       [0.12083097, 0.87916903],\n",
       "       [0.88723131, 0.11276869],\n",
       "       [0.84859886, 0.15140114],\n",
       "       [0.29252204, 0.70747796],\n",
       "       [0.99145187, 0.00854813],\n",
       "       [0.2161766 , 0.7838234 ],\n",
       "       [0.8238206 , 0.1761794 ],\n",
       "       [0.7177294 , 0.2822706 ],\n",
       "       [0.33087568, 0.66912432],\n",
       "       [0.33723102, 0.66276898],\n",
       "       [0.46436962, 0.53563038],\n",
       "       [0.44813688, 0.55186312],\n",
       "       [0.21319842, 0.78680158],\n",
       "       [0.56217501, 0.43782499],\n",
       "       [0.46436962, 0.53563038],\n",
       "       [0.46436962, 0.53563038],\n",
       "       [0.46691412, 0.53308588],\n",
       "       [0.39111126, 0.60888874],\n",
       "       [0.63750309, 0.36249691],\n",
       "       [0.28992775, 0.71007225],\n",
       "       [0.7753881 , 0.2246119 ],\n",
       "       [0.4873959 , 0.5126041 ],\n",
       "       [0.46436962, 0.53563038],\n",
       "       [0.34695809, 0.65304191],\n",
       "       [0.97890259, 0.02109741],\n",
       "       [0.24411136, 0.75588864],\n",
       "       [0.04682438, 0.95317562],\n",
       "       [0.73487929, 0.26512071],\n",
       "       [0.58449589, 0.41550411],\n",
       "       [0.64908838, 0.35091162],\n",
       "       [0.16023346, 0.83976654],\n",
       "       [0.30266026, 0.69733974],\n",
       "       [0.41086625, 0.58913375],\n",
       "       [0.60440476, 0.39559524],\n",
       "       [0.58856892, 0.41143108],\n",
       "       [0.57410625, 0.42589375],\n",
       "       [0.3927117 , 0.6072883 ],\n",
       "       [0.57164312, 0.42835688],\n",
       "       [0.59044176, 0.40955824],\n",
       "       [0.29808836, 0.70191164],\n",
       "       [0.49289543, 0.50710457],\n",
       "       [0.05106414, 0.94893586],\n",
       "       [0.91214911, 0.08785089],\n",
       "       [0.22198423, 0.77801577],\n",
       "       [0.20270106, 0.79729894],\n",
       "       [0.81996015, 0.18003985],\n",
       "       [0.68131655, 0.31868345],\n",
       "       [0.15291582, 0.84708418],\n",
       "       [0.08802925, 0.91197075],\n",
       "       [0.95961244, 0.04038756],\n",
       "       [0.79803974, 0.20196026],\n",
       "       [0.79371704, 0.20628296],\n",
       "       [0.0853086 , 0.9146914 ],\n",
       "       [0.33457357, 0.66542643],\n",
       "       [0.60534692, 0.39465308],\n",
       "       [0.33927316, 0.66072684],\n",
       "       [0.9251834 , 0.0748166 ],\n",
       "       [0.79142759, 0.20857241],\n",
       "       [0.48844591, 0.51155409],\n",
       "       [0.11939824, 0.88060176],\n",
       "       [0.89888677, 0.10111323],\n",
       "       [0.25217375, 0.74782625],\n",
       "       [0.17661667, 0.82338333],\n",
       "       [0.95316174, 0.04683826],\n",
       "       [0.89869811, 0.10130189],\n",
       "       [0.79182253, 0.20817747],\n",
       "       [0.32988856, 0.67011144],\n",
       "       [0.41775451, 0.58224549],\n",
       "       [0.46436962, 0.53563038],\n",
       "       [0.42645869, 0.57354131],\n",
       "       [0.79182642, 0.20817358],\n",
       "       [0.51291188, 0.48708812],\n",
       "       [0.46436962, 0.53563038],\n",
       "       [0.95299211, 0.04700789],\n",
       "       [0.49474176, 0.50525824],\n",
       "       [0.07608552, 0.92391448],\n",
       "       [0.97953034, 0.02046966],\n",
       "       [0.98396475, 0.01603525],\n",
       "       [0.55558645, 0.44441355],\n",
       "       [0.46914204, 0.53085796],\n",
       "       [0.16698829, 0.83301171],\n",
       "       [0.9573128 , 0.0426872 ],\n",
       "       [0.47422628, 0.52577372],\n",
       "       [0.33005388, 0.66994612],\n",
       "       [0.9119093 , 0.0880907 ],\n",
       "       [0.26643433, 0.73356567],\n",
       "       [0.13038366, 0.86961634],\n",
       "       [0.32374228, 0.67625772],\n",
       "       [0.58989954, 0.41010046],\n",
       "       [0.03556781, 0.96443219],\n",
       "       [0.46436962, 0.53563038],\n",
       "       [0.20030559, 0.79969441],\n",
       "       [0.43503352, 0.56496648],\n",
       "       [0.94349344, 0.05650656],\n",
       "       [0.49676936, 0.50323064],\n",
       "       [0.89919048, 0.10080952],\n",
       "       [0.14755775, 0.85244225],\n",
       "       [0.58911397, 0.41088603],\n",
       "       [0.31288517, 0.68711483],\n",
       "       [0.95292922, 0.04707078],\n",
       "       [0.66643898, 0.33356102],\n",
       "       [0.10328878, 0.89671122],\n",
       "       [0.83474941, 0.16525059],\n",
       "       [0.44155683, 0.55844317],\n",
       "       [0.63952392, 0.36047608],\n",
       "       [0.52216905, 0.47783095],\n",
       "       [0.1265522 , 0.8734478 ],\n",
       "       [0.39111126, 0.60888874],\n",
       "       [0.34115534, 0.65884466],\n",
       "       [0.66887978, 0.33112022],\n",
       "       [0.27220513, 0.72779487],\n",
       "       [0.94604825, 0.05395175],\n",
       "       [0.78582181, 0.21417819],\n",
       "       [0.88715719, 0.11284281],\n",
       "       [0.97307594, 0.02692406],\n",
       "       [0.03248109, 0.96751891],\n",
       "       [0.25225616, 0.74774384],\n",
       "       [0.23940094, 0.76059906],\n",
       "       [0.63588323, 0.36411677],\n",
       "       [0.23340035, 0.76659965],\n",
       "       [0.98949792, 0.01050208],\n",
       "       [0.30543062, 0.69456938],\n",
       "       [0.7593419 , 0.2406581 ],\n",
       "       [0.22821829, 0.77178171],\n",
       "       [0.12979473, 0.87020527],\n",
       "       [0.13352063, 0.86647937],\n",
       "       [0.96150326, 0.03849674],\n",
       "       [0.62384028, 0.37615972],\n",
       "       [0.34449243, 0.65550757],\n",
       "       [0.58260783, 0.41739217],\n",
       "       [0.60645094, 0.39354906],\n",
       "       [0.97529567, 0.02470433],\n",
       "       [0.2612793 , 0.7387207 ],\n",
       "       [0.89055541, 0.10944459],\n",
       "       [0.22722011, 0.77277989],\n",
       "       [0.1101842 , 0.8898158 ],\n",
       "       [0.38908047, 0.61091953],\n",
       "       [0.47772915, 0.52227085],\n",
       "       [0.34695809, 0.65304191],\n",
       "       [0.92946666, 0.07053334],\n",
       "       [0.64737359, 0.35262641],\n",
       "       [0.14102304, 0.85897696],\n",
       "       [0.22188808, 0.77811192],\n",
       "       [0.35109656, 0.64890344],\n",
       "       [0.03898632, 0.96101368],\n",
       "       [0.6080424 , 0.3919576 ]])"
      ]
     },
     "execution_count": 14,
     "metadata": {},
     "output_type": "execute_result"
    }
   ],
   "source": [
    "# the probability to predict each class -> which class is which? \n",
    "y_proba"
   ]
  },
  {
   "cell_type": "code",
   "execution_count": 15,
   "metadata": {},
   "outputs": [],
   "source": [
    "# some pre-processing to find the number of words per comment \n",
    "\n",
    "def word_counter(dataframe):\n",
    "    \"\"\"function that count all words in a comment within a dataframe\n",
    "    and a outputs that as a new column\"\"\"\n",
    "    words_in_comment = []\n",
    "    for comment in dataframe['body']:\n",
    "        words = comment.split()\n",
    "        words_in_comment.append(len(words))\n",
    "    dataframe['word_num'] = words_in_comment\n",
    "    return dataframe"
   ]
  },
  {
   "cell_type": "code",
   "execution_count": 16,
   "metadata": {},
   "outputs": [],
   "source": [
    "# function that just fits a model and return that model\n",
    "\n",
    "def model_trainer(X_train, y_train):\n",
    "    \"\"\"takes source and target, trains model and \n",
    "    returns trained Baye's model\"\"\"\n",
    "    tfidf = TfidfVectorizer(min_df=2, stop_words='english')\n",
    "    # keeping default hyperparameters for the moment (min_df=2, stop_words='english')\n",
    "    nb = MultinomialNB()\n",
    "    #creating a pipeline that transforms and fits in one go \n",
    "    model = make_pipeline(tfidf, nb)\n",
    "    model.fit(X_train, y_train)\n",
    "    return model "
   ]
  },
  {
   "cell_type": "code",
   "execution_count": 17,
   "metadata": {},
   "outputs": [],
   "source": [
    "# predictor function\n",
    "\n",
    "def predictor(pipeline_model, test_data):\n",
    "    \"\"\"function takes an existing model, test_data\n",
    "    and outputs predictions (0/1) as an array\"\"\"\n",
    "    #test_data = [test_data]\n",
    "    pred = pipeline_model.predict(test_data)\n",
    "    return pred"
   ]
  },
  {
   "cell_type": "code",
   "execution_count": 18,
   "metadata": {},
   "outputs": [],
   "source": [
    "def evaluator(y_pred):\n",
    "    print(\"Accuracy\", metrics.accuracy_score(y_test, y_pred, normalize=True))\n",
    "    print(\"Precision\", metrics.precision_score(y_test, y_pred, average='weighted'))\n",
    "    print(\"Recall\", metrics.recall_score(y_test, y_pred, average='weighted'))\n",
    "    print(\"F1-Score\", metrics.f1_score(y_test, y_pred, average='weighted'))"
   ]
  },
  {
   "cell_type": "code",
   "execution_count": 19,
   "metadata": {},
   "outputs": [],
   "source": [
    "# applying the model on the dataset\n",
    "bayes_model = model_trainer(X_train, y_train)"
   ]
  },
  {
   "cell_type": "code",
   "execution_count": 20,
   "metadata": {},
   "outputs": [],
   "source": [
    "predicitons = predictor(bayes_model, X_test)"
   ]
  },
  {
   "cell_type": "code",
   "execution_count": 21,
   "metadata": {},
   "outputs": [
    {
     "name": "stdout",
     "output_type": "stream",
     "text": [
      "Accuracy 0.8875\n",
      "Precision 0.8888910188352798\n",
      "Recall 0.8875\n",
      "F1-Score 0.8873237781954888\n"
     ]
    }
   ],
   "source": [
    "evaluator(predicitons)"
   ]
  },
  {
   "cell_type": "code",
   "execution_count": 22,
   "metadata": {},
   "outputs": [
    {
     "data": {
      "text/plain": [
       "array([[134,  23],\n",
       "       [ 13, 150]])"
      ]
     },
     "execution_count": 22,
     "metadata": {},
     "output_type": "execute_result"
    }
   ],
   "source": [
    "metrics.confusion_matrix(y_test, predicitons)"
   ]
  },
  {
   "cell_type": "code",
   "execution_count": 23,
   "metadata": {},
   "outputs": [],
   "source": [
    "# creating a dataframe to compare fase positives & negatives\n",
    "comp_frame = pd.DataFrame(X_test)"
   ]
  },
  {
   "cell_type": "code",
   "execution_count": 24,
   "metadata": {},
   "outputs": [
    {
     "data": {
      "text/html": [
       "<div>\n",
       "<style scoped>\n",
       "    .dataframe tbody tr th:only-of-type {\n",
       "        vertical-align: middle;\n",
       "    }\n",
       "\n",
       "    .dataframe tbody tr th {\n",
       "        vertical-align: top;\n",
       "    }\n",
       "\n",
       "    .dataframe thead th {\n",
       "        text-align: right;\n",
       "    }\n",
       "</style>\n",
       "<table border=\"1\" class=\"dataframe\">\n",
       "  <thead>\n",
       "    <tr style=\"text-align: right;\">\n",
       "      <th></th>\n",
       "      <th>body</th>\n",
       "      <th>true</th>\n",
       "      <th>pred</th>\n",
       "    </tr>\n",
       "  </thead>\n",
       "  <tbody>\n",
       "    <tr>\n",
       "      <th>802</th>\n",
       "      <td>Boot camp</td>\n",
       "      <td>1</td>\n",
       "      <td>1</td>\n",
       "    </tr>\n",
       "    <tr>\n",
       "      <th>124</th>\n",
       "      <td>I can handle it.</td>\n",
       "      <td>0</td>\n",
       "      <td>1</td>\n",
       "    </tr>\n",
       "    <tr>\n",
       "      <th>350</th>\n",
       "      <td>It's going ok. I've never been a great manager...</td>\n",
       "      <td>0</td>\n",
       "      <td>0</td>\n",
       "    </tr>\n",
       "    <tr>\n",
       "      <th>682</th>\n",
       "      <td>The IP stuff has been an interesting challenge...</td>\n",
       "      <td>0</td>\n",
       "      <td>0</td>\n",
       "    </tr>\n",
       "    <tr>\n",
       "      <th>1324</th>\n",
       "      <td>I'm more worried about the ones we dont see un...</td>\n",
       "      <td>1</td>\n",
       "      <td>1</td>\n",
       "    </tr>\n",
       "    <tr>\n",
       "      <th>...</th>\n",
       "      <td>...</td>\n",
       "      <td>...</td>\n",
       "      <td>...</td>\n",
       "    </tr>\n",
       "    <tr>\n",
       "      <th>1068</th>\n",
       "      <td>I have hauled several loads of Yuengling out o...</td>\n",
       "      <td>1</td>\n",
       "      <td>1</td>\n",
       "    </tr>\n",
       "    <tr>\n",
       "      <th>1049</th>\n",
       "      <td>Oh ok I see. Yeah at the rate they are going i...</td>\n",
       "      <td>1</td>\n",
       "      <td>1</td>\n",
       "    </tr>\n",
       "    <tr>\n",
       "      <th>792</th>\n",
       "      <td>Giving a damn about what strangers think about...</td>\n",
       "      <td>1</td>\n",
       "      <td>1</td>\n",
       "    </tr>\n",
       "    <tr>\n",
       "      <th>962</th>\n",
       "      <td>What country are you from? \\n\\nCompany drivers...</td>\n",
       "      <td>1</td>\n",
       "      <td>1</td>\n",
       "    </tr>\n",
       "    <tr>\n",
       "      <th>838</th>\n",
       "      <td>Vote</td>\n",
       "      <td>1</td>\n",
       "      <td>0</td>\n",
       "    </tr>\n",
       "  </tbody>\n",
       "</table>\n",
       "<p>320 rows × 3 columns</p>\n",
       "</div>"
      ],
      "text/plain": [
       "                                                   body  true  pred\n",
       "802                                           Boot camp     1     1\n",
       "124                                   I can handle it.      0     1\n",
       "350   It's going ok. I've never been a great manager...     0     0\n",
       "682   The IP stuff has been an interesting challenge...     0     0\n",
       "1324  I'm more worried about the ones we dont see un...     1     1\n",
       "...                                                 ...   ...   ...\n",
       "1068  I have hauled several loads of Yuengling out o...     1     1\n",
       "1049  Oh ok I see. Yeah at the rate they are going i...     1     1\n",
       "792   Giving a damn about what strangers think about...     1     1\n",
       "962   What country are you from? \\n\\nCompany drivers...     1     1\n",
       "838                                                Vote     1     0\n",
       "\n",
       "[320 rows x 3 columns]"
      ]
     },
     "execution_count": 24,
     "metadata": {},
     "output_type": "execute_result"
    }
   ],
   "source": [
    "# adding the predictions and true values\n",
    "comp_frame['true'] = y_test\n",
    "comp_frame['pred'] = predicitons\n",
    "comp_frame"
   ]
  },
  {
   "cell_type": "code",
   "execution_count": 25,
   "metadata": {},
   "outputs": [],
   "source": [
    "# checking out false positives and false negatives \n",
    "false_chop = comp_frame[(comp_frame['true'] == 0) & (comp_frame['pred'] == 1)]\n",
    "false_spez = comp_frame[(comp_frame['true'] == 1) & (comp_frame['pred'] == 0)]"
   ]
  },
  {
   "cell_type": "markdown",
   "metadata": {},
   "source": [
    "### Assumption: amoung the falsely classified comments are overwhelmingly one word comments. A single word should/could be too little to classifiy an author. "
   ]
  },
  {
   "cell_type": "code",
   "execution_count": null,
   "metadata": {},
   "outputs": [],
   "source": [
    "false_chop['body'].iloc[0].split()"
   ]
  },
  {
   "cell_type": "code",
   "execution_count": null,
   "metadata": {},
   "outputs": [],
   "source": [
    "new_falsespez = word_counter(false_spez).sort_values(by='word_num', ascending=False)"
   ]
  },
  {
   "cell_type": "code",
   "execution_count": null,
   "metadata": {},
   "outputs": [],
   "source": [
    "new_spez = word_counter(spez).sort_values(by='word_num', ascending=False)"
   ]
  },
  {
   "cell_type": "code",
   "execution_count": null,
   "metadata": {},
   "outputs": [],
   "source": [
    "new_spez"
   ]
  },
  {
   "cell_type": "code",
   "execution_count": null,
   "metadata": {},
   "outputs": [],
   "source": [
    "new_spez['word_num'].plot(kind='bar')"
   ]
  },
  {
   "cell_type": "code",
   "execution_count": null,
   "metadata": {},
   "outputs": [],
   "source": [
    "new_falsespez['word_num'].plot(kind='bar')"
   ]
  },
  {
   "cell_type": "markdown",
   "metadata": {},
   "source": [
    "### Oberservation: \n",
    "all falsely attributed comments have 35 or less words. \n",
    "### Assumption: \n",
    "the bigger the word count per comment, the easier it will be to attribute it correctly. In this concrete case, it would reduce my falsely 'spez' attributed comments to limit allowed comment to a word count of > 35 words. \n",
    "\n",
    "I assume that this threshold of when a comment reliably can be classified as belonging to a certain author varies depending on several factors: comment corpus (more is better), generally more wordy, maybe even essay-like comment (more words per comment = better) and the same would hold true for another  "
   ]
  },
  {
   "cell_type": "code",
   "execution_count": null,
   "metadata": {},
   "outputs": [],
   "source": []
  }
 ],
 "metadata": {
  "kernelspec": {
   "display_name": "Python 3",
   "language": "python",
   "name": "python3"
  },
  "language_info": {
   "codemirror_mode": {
    "name": "ipython",
    "version": 3
   },
   "file_extension": ".py",
   "mimetype": "text/x-python",
   "name": "python",
   "nbconvert_exporter": "python",
   "pygments_lexer": "ipython3",
   "version": "3.7.7"
  }
 },
 "nbformat": 4,
 "nbformat_minor": 4
}
