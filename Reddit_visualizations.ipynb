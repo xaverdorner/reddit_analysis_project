{
 "cells": [
  {
   "cell_type": "code",
   "execution_count": 1,
   "metadata": {},
   "outputs": [
    {
     "name": "stderr",
     "output_type": "stream",
     "text": [
      "\n",
      "Bad key \"text.kerning_factor\" on line 4 in\n",
      "/opt/anaconda3/envs/reddit/lib/python3.7/site-packages/matplotlib/mpl-data/stylelib/_classic_test_patch.mplstyle.\n",
      "You probably need to get an updated matplotlibrc file from\n",
      "https://github.com/matplotlib/matplotlib/blob/v3.1.3/matplotlibrc.template\n",
      "or from the matplotlib source distribution\n"
     ]
    }
   ],
   "source": [
    "import pandas as pd\n",
    "import numpy as np\n",
    "import datetime as dt\n",
    "import time\n",
    "import praw\n",
    "import matplotlib.pyplot as plt\n",
    "import seaborn as sns\n",
    "import config\n",
    "\n",
    "from sklearn import preprocessing"
   ]
  },
  {
   "cell_type": "markdown",
   "metadata": {},
   "source": [
    "### Visualizing relationships in subreddits and redditors "
   ]
  },
  {
   "cell_type": "code",
   "execution_count": 2,
   "metadata": {},
   "outputs": [],
   "source": [
    "def word_counter(dataframe):\n",
    "    \"\"\"function that count all words in a comment within a dataframe\n",
    "    and a outputs that as a new column\"\"\"\n",
    "    words_in_comment = []\n",
    "    for comment in dataframe['body']:\n",
    "        words = comment.split()\n",
    "        words_in_comment.append(len(words))\n",
    "    dataframe['word_num'] = words_in_comment\n",
    "    return dataframe"
   ]
  },
  {
   "cell_type": "markdown",
   "metadata": {},
   "source": [
    "### Analyzing the most popular and the most unpopular redditors in r/dataisbeautiful's \"hot\" \n",
    "Loading the score and number of comments of the redditors in the 100 hottest r/dataisbeautiful submissions. "
   ]
  },
  {
   "cell_type": "code",
   "execution_count": 3,
   "metadata": {},
   "outputs": [],
   "source": [
    "# loading the top 100 submissions dataframe \n",
    "\n",
    "hot_redditors = pd.read_csv('top100_top_redditors_2020-05-10.csv', index_col=0)\n",
    "\n",
    "# loading the 2 dataframe with the top 25 most un/popular redditors \n",
    "\n",
    "positive = pd.read_csv('positive_redditors_2020-05-10.csv', index_col=0)\n",
    "positive['pos_or_neg'] = 1\n",
    "negative = pd.read_csv('negative_redditors_2020-05-10.csv', index_col=0)\n",
    "negative['pos_or_neg'] = 0"
   ]
  },
  {
   "cell_type": "code",
   "execution_count": 4,
   "metadata": {},
   "outputs": [],
   "source": [
    "# merging positive and negative for comparability \n",
    "pos_and_neg = positive.reset_index().merge(negative.reset_index(),how='outer')"
   ]
  },
  {
   "cell_type": "code",
   "execution_count": 5,
   "metadata": {},
   "outputs": [
    {
     "data": {
      "text/plain": [
       "'2016-01-18 06:50:34'"
      ]
     },
     "execution_count": 5,
     "metadata": {},
     "output_type": "execute_result"
    }
   ],
   "source": [
    "pos_and_neg['created'].iloc[0]"
   ]
  },
  {
   "cell_type": "code",
   "execution_count": 6,
   "metadata": {},
   "outputs": [
    {
     "data": {
      "text/html": [
       "<div>\n",
       "<style scoped>\n",
       "    .dataframe tbody tr th:only-of-type {\n",
       "        vertical-align: middle;\n",
       "    }\n",
       "\n",
       "    .dataframe tbody tr th {\n",
       "        vertical-align: top;\n",
       "    }\n",
       "\n",
       "    .dataframe thead th {\n",
       "        text-align: right;\n",
       "    }\n",
       "</style>\n",
       "<table border=\"1\" class=\"dataframe\">\n",
       "  <thead>\n",
       "    <tr style=\"text-align: right;\">\n",
       "      <th></th>\n",
       "      <th>index</th>\n",
       "      <th>created</th>\n",
       "      <th>link_karma</th>\n",
       "      <th>comment_karma</th>\n",
       "      <th>pos_or_neg</th>\n",
       "    </tr>\n",
       "  </thead>\n",
       "  <tbody>\n",
       "    <tr>\n",
       "      <th>0</th>\n",
       "      <td>zkgkilla</td>\n",
       "      <td>2016-01-18 06:50:34</td>\n",
       "      <td>4377</td>\n",
       "      <td>9819</td>\n",
       "      <td>1</td>\n",
       "    </tr>\n",
       "    <tr>\n",
       "      <th>1</th>\n",
       "      <td>strumthebuilding</td>\n",
       "      <td>2012-10-13 17:40:00</td>\n",
       "      <td>218</td>\n",
       "      <td>6675</td>\n",
       "      <td>1</td>\n",
       "    </tr>\n",
       "    <tr>\n",
       "      <th>2</th>\n",
       "      <td>steevie265</td>\n",
       "      <td>2018-07-11 05:40:43</td>\n",
       "      <td>38</td>\n",
       "      <td>3145</td>\n",
       "      <td>1</td>\n",
       "    </tr>\n",
       "    <tr>\n",
       "      <th>3</th>\n",
       "      <td>zipflop</td>\n",
       "      <td>2013-02-12 11:51:37</td>\n",
       "      <td>12676</td>\n",
       "      <td>25675</td>\n",
       "      <td>1</td>\n",
       "    </tr>\n",
       "    <tr>\n",
       "      <th>4</th>\n",
       "      <td>JPAnalyst</td>\n",
       "      <td>2018-02-15 04:56:39</td>\n",
       "      <td>27007</td>\n",
       "      <td>35139</td>\n",
       "      <td>1</td>\n",
       "    </tr>\n",
       "    <tr>\n",
       "      <th>5</th>\n",
       "      <td>AAAbbasi786</td>\n",
       "      <td>2020-04-26 05:17:08</td>\n",
       "      <td>10787</td>\n",
       "      <td>2614</td>\n",
       "      <td>1</td>\n",
       "    </tr>\n",
       "    <tr>\n",
       "      <th>6</th>\n",
       "      <td>chamomileinyohood</td>\n",
       "      <td>2019-01-29 10:59:52</td>\n",
       "      <td>7427</td>\n",
       "      <td>6926</td>\n",
       "      <td>1</td>\n",
       "    </tr>\n",
       "    <tr>\n",
       "      <th>7</th>\n",
       "      <td>mochizuki</td>\n",
       "      <td>2012-01-23 19:09:01</td>\n",
       "      <td>11795</td>\n",
       "      <td>25267</td>\n",
       "      <td>1</td>\n",
       "    </tr>\n",
       "    <tr>\n",
       "      <th>8</th>\n",
       "      <td>BingedrinkerX</td>\n",
       "      <td>2015-03-24 09:42:30</td>\n",
       "      <td>94</td>\n",
       "      <td>1396</td>\n",
       "      <td>1</td>\n",
       "    </tr>\n",
       "    <tr>\n",
       "      <th>9</th>\n",
       "      <td>drea2</td>\n",
       "      <td>2017-05-27 13:38:43</td>\n",
       "      <td>3683</td>\n",
       "      <td>27669</td>\n",
       "      <td>1</td>\n",
       "    </tr>\n",
       "    <tr>\n",
       "      <th>10</th>\n",
       "      <td>Bazlow</td>\n",
       "      <td>2013-09-16 02:20:08</td>\n",
       "      <td>123</td>\n",
       "      <td>23402</td>\n",
       "      <td>1</td>\n",
       "    </tr>\n",
       "    <tr>\n",
       "      <th>11</th>\n",
       "      <td>PreciousRoy43</td>\n",
       "      <td>2014-06-17 08:33:09</td>\n",
       "      <td>1</td>\n",
       "      <td>5689</td>\n",
       "      <td>1</td>\n",
       "    </tr>\n",
       "    <tr>\n",
       "      <th>12</th>\n",
       "      <td>BillyBreen</td>\n",
       "      <td>2006-12-21 11:09:44</td>\n",
       "      <td>507</td>\n",
       "      <td>54237</td>\n",
       "      <td>1</td>\n",
       "    </tr>\n",
       "    <tr>\n",
       "      <th>13</th>\n",
       "      <td>dazzumz</td>\n",
       "      <td>2018-04-10 04:51:24</td>\n",
       "      <td>4724</td>\n",
       "      <td>13807</td>\n",
       "      <td>1</td>\n",
       "    </tr>\n",
       "    <tr>\n",
       "      <th>14</th>\n",
       "      <td>mucow</td>\n",
       "      <td>2015-03-26 22:10:49</td>\n",
       "      <td>10243</td>\n",
       "      <td>169208</td>\n",
       "      <td>1</td>\n",
       "    </tr>\n",
       "    <tr>\n",
       "      <th>15</th>\n",
       "      <td>Ghostshirts</td>\n",
       "      <td>2011-07-07 10:42:09</td>\n",
       "      <td>272</td>\n",
       "      <td>480543</td>\n",
       "      <td>1</td>\n",
       "    </tr>\n",
       "    <tr>\n",
       "      <th>16</th>\n",
       "      <td>Ibbuk</td>\n",
       "      <td>2014-08-07 01:10:51</td>\n",
       "      <td>495</td>\n",
       "      <td>22335</td>\n",
       "      <td>1</td>\n",
       "    </tr>\n",
       "    <tr>\n",
       "      <th>17</th>\n",
       "      <td>smedsterwho</td>\n",
       "      <td>2018-01-01 13:45:32</td>\n",
       "      <td>7913</td>\n",
       "      <td>29490</td>\n",
       "      <td>1</td>\n",
       "    </tr>\n",
       "    <tr>\n",
       "      <th>18</th>\n",
       "      <td>chestertoronto</td>\n",
       "      <td>2014-09-16 06:09:00</td>\n",
       "      <td>2383</td>\n",
       "      <td>35300</td>\n",
       "      <td>1</td>\n",
       "    </tr>\n",
       "    <tr>\n",
       "      <th>19</th>\n",
       "      <td>apittsburghoriginal</td>\n",
       "      <td>2016-05-28 10:10:20</td>\n",
       "      <td>24911</td>\n",
       "      <td>226977</td>\n",
       "      <td>1</td>\n",
       "    </tr>\n",
       "    <tr>\n",
       "      <th>20</th>\n",
       "      <td>Cellbiodude</td>\n",
       "      <td>2020-04-08 07:10:09</td>\n",
       "      <td>1</td>\n",
       "      <td>3132</td>\n",
       "      <td>1</td>\n",
       "    </tr>\n",
       "    <tr>\n",
       "      <th>21</th>\n",
       "      <td>cyberentomology</td>\n",
       "      <td>2014-06-12 02:10:03</td>\n",
       "      <td>6685</td>\n",
       "      <td>5812</td>\n",
       "      <td>1</td>\n",
       "    </tr>\n",
       "    <tr>\n",
       "      <th>22</th>\n",
       "      <td>BadFengShui</td>\n",
       "      <td>2011-07-01 07:14:22</td>\n",
       "      <td>781</td>\n",
       "      <td>77004</td>\n",
       "      <td>1</td>\n",
       "    </tr>\n",
       "    <tr>\n",
       "      <th>23</th>\n",
       "      <td>Miatty16</td>\n",
       "      <td>2019-05-15 03:55:49</td>\n",
       "      <td>41</td>\n",
       "      <td>925</td>\n",
       "      <td>1</td>\n",
       "    </tr>\n",
       "    <tr>\n",
       "      <th>24</th>\n",
       "      <td>Voidparrot</td>\n",
       "      <td>2015-01-29 10:12:03</td>\n",
       "      <td>211</td>\n",
       "      <td>5433</td>\n",
       "      <td>1</td>\n",
       "    </tr>\n",
       "    <tr>\n",
       "      <th>25</th>\n",
       "      <td>Sv_gravlty</td>\n",
       "      <td>2019-04-19 09:27:39</td>\n",
       "      <td>1</td>\n",
       "      <td>1009</td>\n",
       "      <td>0</td>\n",
       "    </tr>\n",
       "    <tr>\n",
       "      <th>26</th>\n",
       "      <td>bitch6</td>\n",
       "      <td>2015-02-16 10:01:33</td>\n",
       "      <td>7</td>\n",
       "      <td>8108</td>\n",
       "      <td>0</td>\n",
       "    </tr>\n",
       "    <tr>\n",
       "      <th>27</th>\n",
       "      <td>bscottlove</td>\n",
       "      <td>2015-03-09 21:29:00</td>\n",
       "      <td>1</td>\n",
       "      <td>40</td>\n",
       "      <td>0</td>\n",
       "    </tr>\n",
       "    <tr>\n",
       "      <th>28</th>\n",
       "      <td>GetPucked14</td>\n",
       "      <td>2017-01-30 10:23:24</td>\n",
       "      <td>33</td>\n",
       "      <td>125</td>\n",
       "      <td>0</td>\n",
       "    </tr>\n",
       "    <tr>\n",
       "      <th>29</th>\n",
       "      <td>ElectricShock</td>\n",
       "      <td>2011-01-08 13:03:59</td>\n",
       "      <td>81</td>\n",
       "      <td>4799</td>\n",
       "      <td>0</td>\n",
       "    </tr>\n",
       "    <tr>\n",
       "      <th>30</th>\n",
       "      <td>ValiantBlue</td>\n",
       "      <td>2019-09-28 12:18:31</td>\n",
       "      <td>4958</td>\n",
       "      <td>34393</td>\n",
       "      <td>0</td>\n",
       "    </tr>\n",
       "    <tr>\n",
       "      <th>31</th>\n",
       "      <td>SmokeFrosting</td>\n",
       "      <td>2014-03-05 07:42:31</td>\n",
       "      <td>1347</td>\n",
       "      <td>44682</td>\n",
       "      <td>0</td>\n",
       "    </tr>\n",
       "    <tr>\n",
       "      <th>32</th>\n",
       "      <td>Snailed-Lt</td>\n",
       "      <td>2016-07-15 23:49:37</td>\n",
       "      <td>2855</td>\n",
       "      <td>1801</td>\n",
       "      <td>0</td>\n",
       "    </tr>\n",
       "    <tr>\n",
       "      <th>33</th>\n",
       "      <td>slipknotmed</td>\n",
       "      <td>2019-10-20 03:02:13</td>\n",
       "      <td>14292</td>\n",
       "      <td>2633</td>\n",
       "      <td>0</td>\n",
       "    </tr>\n",
       "    <tr>\n",
       "      <th>34</th>\n",
       "      <td>Entrerie811</td>\n",
       "      <td>2015-04-14 00:39:10</td>\n",
       "      <td>13</td>\n",
       "      <td>135</td>\n",
       "      <td>0</td>\n",
       "    </tr>\n",
       "    <tr>\n",
       "      <th>35</th>\n",
       "      <td>soadArmenia2020</td>\n",
       "      <td>2020-02-04 09:15:38</td>\n",
       "      <td>6</td>\n",
       "      <td>496</td>\n",
       "      <td>0</td>\n",
       "    </tr>\n",
       "    <tr>\n",
       "      <th>36</th>\n",
       "      <td>nikog27</td>\n",
       "      <td>2017-01-25 05:10:18</td>\n",
       "      <td>2</td>\n",
       "      <td>1842</td>\n",
       "      <td>0</td>\n",
       "    </tr>\n",
       "    <tr>\n",
       "      <th>37</th>\n",
       "      <td>jamal_crawford</td>\n",
       "      <td>2014-11-15 13:45:36</td>\n",
       "      <td>1078</td>\n",
       "      <td>18611</td>\n",
       "      <td>0</td>\n",
       "    </tr>\n",
       "    <tr>\n",
       "      <th>38</th>\n",
       "      <td>russianspy27</td>\n",
       "      <td>2020-05-02 05:05:15</td>\n",
       "      <td>147</td>\n",
       "      <td>75</td>\n",
       "      <td>0</td>\n",
       "    </tr>\n",
       "    <tr>\n",
       "      <th>39</th>\n",
       "      <td>LeGrill88</td>\n",
       "      <td>2019-09-27 00:41:09</td>\n",
       "      <td>1</td>\n",
       "      <td>122</td>\n",
       "      <td>0</td>\n",
       "    </tr>\n",
       "    <tr>\n",
       "      <th>40</th>\n",
       "      <td>Onemoagain</td>\n",
       "      <td>2019-08-28 08:01:04</td>\n",
       "      <td>90</td>\n",
       "      <td>8247</td>\n",
       "      <td>0</td>\n",
       "    </tr>\n",
       "    <tr>\n",
       "      <th>41</th>\n",
       "      <td>mbbird</td>\n",
       "      <td>2014-01-25 08:49:03</td>\n",
       "      <td>22402</td>\n",
       "      <td>114390</td>\n",
       "      <td>0</td>\n",
       "    </tr>\n",
       "    <tr>\n",
       "      <th>42</th>\n",
       "      <td>hitch21</td>\n",
       "      <td>2013-12-09 16:16:24</td>\n",
       "      <td>6047</td>\n",
       "      <td>151965</td>\n",
       "      <td>0</td>\n",
       "    </tr>\n",
       "    <tr>\n",
       "      <th>43</th>\n",
       "      <td>NodeDotSwift</td>\n",
       "      <td>2017-12-18 13:36:00</td>\n",
       "      <td>605</td>\n",
       "      <td>12372</td>\n",
       "      <td>0</td>\n",
       "    </tr>\n",
       "    <tr>\n",
       "      <th>44</th>\n",
       "      <td>wareagle00</td>\n",
       "      <td>2018-01-01 06:40:58</td>\n",
       "      <td>1716</td>\n",
       "      <td>2186</td>\n",
       "      <td>0</td>\n",
       "    </tr>\n",
       "    <tr>\n",
       "      <th>45</th>\n",
       "      <td>FewMail</td>\n",
       "      <td>2018-05-28 03:33:49</td>\n",
       "      <td>33</td>\n",
       "      <td>13316</td>\n",
       "      <td>0</td>\n",
       "    </tr>\n",
       "    <tr>\n",
       "      <th>46</th>\n",
       "      <td>Tarron</td>\n",
       "      <td>2013-01-04 17:54:59</td>\n",
       "      <td>2074</td>\n",
       "      <td>54487</td>\n",
       "      <td>0</td>\n",
       "    </tr>\n",
       "    <tr>\n",
       "      <th>47</th>\n",
       "      <td>SmokeDetectorJoe</td>\n",
       "      <td>2016-07-17 14:23:59</td>\n",
       "      <td>9464</td>\n",
       "      <td>6374</td>\n",
       "      <td>0</td>\n",
       "    </tr>\n",
       "    <tr>\n",
       "      <th>48</th>\n",
       "      <td>cuddleniger</td>\n",
       "      <td>2013-10-30 06:56:21</td>\n",
       "      <td>5</td>\n",
       "      <td>44881</td>\n",
       "      <td>0</td>\n",
       "    </tr>\n",
       "    <tr>\n",
       "      <th>49</th>\n",
       "      <td>Oathbetrayer</td>\n",
       "      <td>2015-05-30 02:55:44</td>\n",
       "      <td>77</td>\n",
       "      <td>18</td>\n",
       "      <td>0</td>\n",
       "    </tr>\n",
       "  </tbody>\n",
       "</table>\n",
       "</div>"
      ],
      "text/plain": [
       "                  index              created  link_karma  comment_karma  \\\n",
       "0              zkgkilla  2016-01-18 06:50:34        4377           9819   \n",
       "1      strumthebuilding  2012-10-13 17:40:00         218           6675   \n",
       "2            steevie265  2018-07-11 05:40:43          38           3145   \n",
       "3               zipflop  2013-02-12 11:51:37       12676          25675   \n",
       "4             JPAnalyst  2018-02-15 04:56:39       27007          35139   \n",
       "5           AAAbbasi786  2020-04-26 05:17:08       10787           2614   \n",
       "6     chamomileinyohood  2019-01-29 10:59:52        7427           6926   \n",
       "7             mochizuki  2012-01-23 19:09:01       11795          25267   \n",
       "8         BingedrinkerX  2015-03-24 09:42:30          94           1396   \n",
       "9                 drea2  2017-05-27 13:38:43        3683          27669   \n",
       "10               Bazlow  2013-09-16 02:20:08         123          23402   \n",
       "11        PreciousRoy43  2014-06-17 08:33:09           1           5689   \n",
       "12           BillyBreen  2006-12-21 11:09:44         507          54237   \n",
       "13              dazzumz  2018-04-10 04:51:24        4724          13807   \n",
       "14                mucow  2015-03-26 22:10:49       10243         169208   \n",
       "15          Ghostshirts  2011-07-07 10:42:09         272         480543   \n",
       "16                Ibbuk  2014-08-07 01:10:51         495          22335   \n",
       "17          smedsterwho  2018-01-01 13:45:32        7913          29490   \n",
       "18       chestertoronto  2014-09-16 06:09:00        2383          35300   \n",
       "19  apittsburghoriginal  2016-05-28 10:10:20       24911         226977   \n",
       "20          Cellbiodude  2020-04-08 07:10:09           1           3132   \n",
       "21      cyberentomology  2014-06-12 02:10:03        6685           5812   \n",
       "22          BadFengShui  2011-07-01 07:14:22         781          77004   \n",
       "23             Miatty16  2019-05-15 03:55:49          41            925   \n",
       "24           Voidparrot  2015-01-29 10:12:03         211           5433   \n",
       "25           Sv_gravlty  2019-04-19 09:27:39           1           1009   \n",
       "26               bitch6  2015-02-16 10:01:33           7           8108   \n",
       "27           bscottlove  2015-03-09 21:29:00           1             40   \n",
       "28          GetPucked14  2017-01-30 10:23:24          33            125   \n",
       "29        ElectricShock  2011-01-08 13:03:59          81           4799   \n",
       "30          ValiantBlue  2019-09-28 12:18:31        4958          34393   \n",
       "31        SmokeFrosting  2014-03-05 07:42:31        1347          44682   \n",
       "32           Snailed-Lt  2016-07-15 23:49:37        2855           1801   \n",
       "33          slipknotmed  2019-10-20 03:02:13       14292           2633   \n",
       "34          Entrerie811  2015-04-14 00:39:10          13            135   \n",
       "35      soadArmenia2020  2020-02-04 09:15:38           6            496   \n",
       "36              nikog27  2017-01-25 05:10:18           2           1842   \n",
       "37       jamal_crawford  2014-11-15 13:45:36        1078          18611   \n",
       "38         russianspy27  2020-05-02 05:05:15         147             75   \n",
       "39            LeGrill88  2019-09-27 00:41:09           1            122   \n",
       "40           Onemoagain  2019-08-28 08:01:04          90           8247   \n",
       "41               mbbird  2014-01-25 08:49:03       22402         114390   \n",
       "42              hitch21  2013-12-09 16:16:24        6047         151965   \n",
       "43         NodeDotSwift  2017-12-18 13:36:00         605          12372   \n",
       "44           wareagle00  2018-01-01 06:40:58        1716           2186   \n",
       "45              FewMail  2018-05-28 03:33:49          33          13316   \n",
       "46               Tarron  2013-01-04 17:54:59        2074          54487   \n",
       "47     SmokeDetectorJoe  2016-07-17 14:23:59        9464           6374   \n",
       "48          cuddleniger  2013-10-30 06:56:21           5          44881   \n",
       "49         Oathbetrayer  2015-05-30 02:55:44          77             18   \n",
       "\n",
       "    pos_or_neg  \n",
       "0            1  \n",
       "1            1  \n",
       "2            1  \n",
       "3            1  \n",
       "4            1  \n",
       "5            1  \n",
       "6            1  \n",
       "7            1  \n",
       "8            1  \n",
       "9            1  \n",
       "10           1  \n",
       "11           1  \n",
       "12           1  \n",
       "13           1  \n",
       "14           1  \n",
       "15           1  \n",
       "16           1  \n",
       "17           1  \n",
       "18           1  \n",
       "19           1  \n",
       "20           1  \n",
       "21           1  \n",
       "22           1  \n",
       "23           1  \n",
       "24           1  \n",
       "25           0  \n",
       "26           0  \n",
       "27           0  \n",
       "28           0  \n",
       "29           0  \n",
       "30           0  \n",
       "31           0  \n",
       "32           0  \n",
       "33           0  \n",
       "34           0  \n",
       "35           0  \n",
       "36           0  \n",
       "37           0  \n",
       "38           0  \n",
       "39           0  \n",
       "40           0  \n",
       "41           0  \n",
       "42           0  \n",
       "43           0  \n",
       "44           0  \n",
       "45           0  \n",
       "46           0  \n",
       "47           0  \n",
       "48           0  \n",
       "49           0  "
      ]
     },
     "execution_count": 6,
     "metadata": {},
     "output_type": "execute_result"
    }
   ],
   "source": [
    "pos_and_neg"
   ]
  },
  {
   "cell_type": "code",
   "execution_count": 11,
   "metadata": {},
   "outputs": [
    {
     "data": {
      "text/plain": [
       "<matplotlib.axes._subplots.AxesSubplot at 0x1a252dd790>"
      ]
     },
     "execution_count": 11,
     "metadata": {},
     "output_type": "execute_result"
    },
    {
     "data": {
      "image/png": "[encoded data removed]",
      "text/plain": [
       "<Figure size 720x576 with 1 Axes>"
      ]
     },
     "metadata": {},
     "output_type": "display_data"
    }
   ],
   "source": [
    "plt.figure(figsize=(10,8))\n",
    "plt.xscale('log')\n",
    "plt.yscale('log') \n",
    "sns.set_style('darkgrid')\n",
    "sns.scatterplot(data=pos_and_neg, \n",
    "                x='link_karma', \n",
    "                y='comment_karma', \n",
    "                hue='pos_or_neg')"
   ]
  },
  {
   "cell_type": "code",
   "execution_count": 28,
   "metadata": {},
   "outputs": [],
   "source": [
    "# regplot function\n",
    "def reg_plotter(dataframe, x_value, y_value):\n",
    "    plt.figure(figsize=(10,(8)))\n",
    "    sns.set_style('darkgrid')\n",
    "    sns.regplot(data=dataframe, x=x_value, y=y_value)"
   ]
  },
  {
   "cell_type": "code",
   "execution_count": 29,
   "metadata": {},
   "outputs": [
    {
     "data": {
      "image/png": "[encoded data removed]",
      "text/plain": [
       "<Figure size 720x576 with 1 Axes>"
      ]
     },
     "metadata": {},
     "output_type": "display_data"
    }
   ],
   "source": [
    "reg_plotter(positive, 'link_karma', 'comment_karma')"
   ]
  },
  {
   "cell_type": "code",
   "execution_count": 6,
   "metadata": {},
   "outputs": [
    {
     "data": {
      "text/html": [
       "<div>\n",
       "<style scoped>\n",
       "    .dataframe tbody tr th:only-of-type {\n",
       "        vertical-align: middle;\n",
       "    }\n",
       "\n",
       "    .dataframe tbody tr th {\n",
       "        vertical-align: top;\n",
       "    }\n",
       "\n",
       "    .dataframe thead th {\n",
       "        text-align: right;\n",
       "    }\n",
       "</style>\n",
       "<table border=\"1\" class=\"dataframe\">\n",
       "  <thead>\n",
       "    <tr style=\"text-align: right;\">\n",
       "      <th></th>\n",
       "      <th>created</th>\n",
       "      <th>link_karma</th>\n",
       "      <th>comment_karma</th>\n",
       "    </tr>\n",
       "  </thead>\n",
       "  <tbody>\n",
       "    <tr>\n",
       "      <th>zkgkilla</th>\n",
       "      <td>2016-01-18 06:50:34</td>\n",
       "      <td>4377</td>\n",
       "      <td>9819</td>\n",
       "    </tr>\n",
       "    <tr>\n",
       "      <th>strumthebuilding</th>\n",
       "      <td>2012-10-13 17:40:00</td>\n",
       "      <td>218</td>\n",
       "      <td>6675</td>\n",
       "    </tr>\n",
       "    <tr>\n",
       "      <th>steevie265</th>\n",
       "      <td>2018-07-11 05:40:43</td>\n",
       "      <td>38</td>\n",
       "      <td>3145</td>\n",
       "    </tr>\n",
       "    <tr>\n",
       "      <th>zipflop</th>\n",
       "      <td>2013-02-12 11:51:37</td>\n",
       "      <td>12676</td>\n",
       "      <td>25675</td>\n",
       "    </tr>\n",
       "    <tr>\n",
       "      <th>JPAnalyst</th>\n",
       "      <td>2018-02-15 04:56:39</td>\n",
       "      <td>27007</td>\n",
       "      <td>35139</td>\n",
       "    </tr>\n",
       "    <tr>\n",
       "      <th>AAAbbasi786</th>\n",
       "      <td>2020-04-26 05:17:08</td>\n",
       "      <td>10787</td>\n",
       "      <td>2614</td>\n",
       "    </tr>\n",
       "    <tr>\n",
       "      <th>chamomileinyohood</th>\n",
       "      <td>2019-01-29 10:59:52</td>\n",
       "      <td>7427</td>\n",
       "      <td>6926</td>\n",
       "    </tr>\n",
       "    <tr>\n",
       "      <th>mochizuki</th>\n",
       "      <td>2012-01-23 19:09:01</td>\n",
       "      <td>11795</td>\n",
       "      <td>25267</td>\n",
       "    </tr>\n",
       "    <tr>\n",
       "      <th>BingedrinkerX</th>\n",
       "      <td>2015-03-24 09:42:30</td>\n",
       "      <td>94</td>\n",
       "      <td>1396</td>\n",
       "    </tr>\n",
       "    <tr>\n",
       "      <th>drea2</th>\n",
       "      <td>2017-05-27 13:38:43</td>\n",
       "      <td>3683</td>\n",
       "      <td>27669</td>\n",
       "    </tr>\n",
       "    <tr>\n",
       "      <th>Bazlow</th>\n",
       "      <td>2013-09-16 02:20:08</td>\n",
       "      <td>123</td>\n",
       "      <td>23402</td>\n",
       "    </tr>\n",
       "    <tr>\n",
       "      <th>PreciousRoy43</th>\n",
       "      <td>2014-06-17 08:33:09</td>\n",
       "      <td>1</td>\n",
       "      <td>5689</td>\n",
       "    </tr>\n",
       "    <tr>\n",
       "      <th>BillyBreen</th>\n",
       "      <td>2006-12-21 11:09:44</td>\n",
       "      <td>507</td>\n",
       "      <td>54237</td>\n",
       "    </tr>\n",
       "    <tr>\n",
       "      <th>dazzumz</th>\n",
       "      <td>2018-04-10 04:51:24</td>\n",
       "      <td>4724</td>\n",
       "      <td>13807</td>\n",
       "    </tr>\n",
       "    <tr>\n",
       "      <th>mucow</th>\n",
       "      <td>2015-03-26 22:10:49</td>\n",
       "      <td>10243</td>\n",
       "      <td>169208</td>\n",
       "    </tr>\n",
       "    <tr>\n",
       "      <th>Ghostshirts</th>\n",
       "      <td>2011-07-07 10:42:09</td>\n",
       "      <td>272</td>\n",
       "      <td>480543</td>\n",
       "    </tr>\n",
       "    <tr>\n",
       "      <th>Ibbuk</th>\n",
       "      <td>2014-08-07 01:10:51</td>\n",
       "      <td>495</td>\n",
       "      <td>22335</td>\n",
       "    </tr>\n",
       "    <tr>\n",
       "      <th>smedsterwho</th>\n",
       "      <td>2018-01-01 13:45:32</td>\n",
       "      <td>7913</td>\n",
       "      <td>29490</td>\n",
       "    </tr>\n",
       "    <tr>\n",
       "      <th>chestertoronto</th>\n",
       "      <td>2014-09-16 06:09:00</td>\n",
       "      <td>2383</td>\n",
       "      <td>35300</td>\n",
       "    </tr>\n",
       "    <tr>\n",
       "      <th>apittsburghoriginal</th>\n",
       "      <td>2016-05-28 10:10:20</td>\n",
       "      <td>24911</td>\n",
       "      <td>226977</td>\n",
       "    </tr>\n",
       "    <tr>\n",
       "      <th>Cellbiodude</th>\n",
       "      <td>2020-04-08 07:10:09</td>\n",
       "      <td>1</td>\n",
       "      <td>3132</td>\n",
       "    </tr>\n",
       "    <tr>\n",
       "      <th>cyberentomology</th>\n",
       "      <td>2014-06-12 02:10:03</td>\n",
       "      <td>6685</td>\n",
       "      <td>5812</td>\n",
       "    </tr>\n",
       "    <tr>\n",
       "      <th>BadFengShui</th>\n",
       "      <td>2011-07-01 07:14:22</td>\n",
       "      <td>781</td>\n",
       "      <td>77004</td>\n",
       "    </tr>\n",
       "    <tr>\n",
       "      <th>Miatty16</th>\n",
       "      <td>2019-05-15 03:55:49</td>\n",
       "      <td>41</td>\n",
       "      <td>925</td>\n",
       "    </tr>\n",
       "    <tr>\n",
       "      <th>Voidparrot</th>\n",
       "      <td>2015-01-29 10:12:03</td>\n",
       "      <td>211</td>\n",
       "      <td>5433</td>\n",
       "    </tr>\n",
       "  </tbody>\n",
       "</table>\n",
       "</div>"
      ],
      "text/plain": [
       "                                 created  link_karma  comment_karma\n",
       "zkgkilla             2016-01-18 06:50:34        4377           9819\n",
       "strumthebuilding     2012-10-13 17:40:00         218           6675\n",
       "steevie265           2018-07-11 05:40:43          38           3145\n",
       "zipflop              2013-02-12 11:51:37       12676          25675\n",
       "JPAnalyst            2018-02-15 04:56:39       27007          35139\n",
       "AAAbbasi786          2020-04-26 05:17:08       10787           2614\n",
       "chamomileinyohood    2019-01-29 10:59:52        7427           6926\n",
       "mochizuki            2012-01-23 19:09:01       11795          25267\n",
       "BingedrinkerX        2015-03-24 09:42:30          94           1396\n",
       "drea2                2017-05-27 13:38:43        3683          27669\n",
       "Bazlow               2013-09-16 02:20:08         123          23402\n",
       "PreciousRoy43        2014-06-17 08:33:09           1           5689\n",
       "BillyBreen           2006-12-21 11:09:44         507          54237\n",
       "dazzumz              2018-04-10 04:51:24        4724          13807\n",
       "mucow                2015-03-26 22:10:49       10243         169208\n",
       "Ghostshirts          2011-07-07 10:42:09         272         480543\n",
       "Ibbuk                2014-08-07 01:10:51         495          22335\n",
       "smedsterwho          2018-01-01 13:45:32        7913          29490\n",
       "chestertoronto       2014-09-16 06:09:00        2383          35300\n",
       "apittsburghoriginal  2016-05-28 10:10:20       24911         226977\n",
       "Cellbiodude          2020-04-08 07:10:09           1           3132\n",
       "cyberentomology      2014-06-12 02:10:03        6685           5812\n",
       "BadFengShui          2011-07-01 07:14:22         781          77004\n",
       "Miatty16             2019-05-15 03:55:49          41            925\n",
       "Voidparrot           2015-01-29 10:12:03         211           5433"
      ]
     },
     "execution_count": 6,
     "metadata": {},
     "output_type": "execute_result"
    }
   ],
   "source": [
    "positive"
   ]
  },
  {
   "cell_type": "code",
   "execution_count": 60,
   "metadata": {},
   "outputs": [],
   "source": [
    "top_25['year'] = top_25.set_index('created').index.year"
   ]
  },
  {
   "cell_type": "code",
   "execution_count": 62,
   "metadata": {},
   "outputs": [
    {
     "data": {
      "text/html": [
       "<div>\n",
       "<style scoped>\n",
       "    .dataframe tbody tr th:only-of-type {\n",
       "        vertical-align: middle;\n",
       "    }\n",
       "\n",
       "    .dataframe tbody tr th {\n",
       "        vertical-align: top;\n",
       "    }\n",
       "\n",
       "    .dataframe thead th {\n",
       "        text-align: right;\n",
       "    }\n",
       "</style>\n",
       "<table border=\"1\" class=\"dataframe\">\n",
       "  <thead>\n",
       "    <tr style=\"text-align: right;\">\n",
       "      <th></th>\n",
       "      <th>created</th>\n",
       "      <th>link_karma</th>\n",
       "      <th>comment_karma</th>\n",
       "      <th>total_karma</th>\n",
       "      <th>year</th>\n",
       "    </tr>\n",
       "  </thead>\n",
       "  <tbody>\n",
       "    <tr>\n",
       "      <th>wozer</th>\n",
       "      <td>2007-08-28 05:16:44</td>\n",
       "      <td>7818</td>\n",
       "      <td>30410</td>\n",
       "      <td>38228</td>\n",
       "      <td>2007</td>\n",
       "    </tr>\n",
       "    <tr>\n",
       "      <th>SdifOdh</th>\n",
       "      <td>2012-04-11 07:03:13</td>\n",
       "      <td>8847</td>\n",
       "      <td>35717</td>\n",
       "      <td>44564</td>\n",
       "      <td>2012</td>\n",
       "    </tr>\n",
       "    <tr>\n",
       "      <th>EviIution</th>\n",
       "      <td>2012-12-21 18:05:39</td>\n",
       "      <td>158</td>\n",
       "      <td>3128</td>\n",
       "      <td>3286</td>\n",
       "      <td>2012</td>\n",
       "    </tr>\n",
       "    <tr>\n",
       "      <th>MazPA</th>\n",
       "      <td>2013-12-19 08:32:02</td>\n",
       "      <td>21696</td>\n",
       "      <td>34617</td>\n",
       "      <td>56313</td>\n",
       "      <td>2013</td>\n",
       "    </tr>\n",
       "    <tr>\n",
       "      <th>Jandolino</th>\n",
       "      <td>2013-05-08 04:34:15</td>\n",
       "      <td>422</td>\n",
       "      <td>20670</td>\n",
       "      <td>21092</td>\n",
       "      <td>2013</td>\n",
       "    </tr>\n",
       "    <tr>\n",
       "      <th>YeppImNaked</th>\n",
       "      <td>2013-08-21 05:21:47</td>\n",
       "      <td>1392</td>\n",
       "      <td>4892</td>\n",
       "      <td>6284</td>\n",
       "      <td>2013</td>\n",
       "    </tr>\n",
       "    <tr>\n",
       "      <th>zieji</th>\n",
       "      <td>2013-04-18 07:27:17</td>\n",
       "      <td>236</td>\n",
       "      <td>5797</td>\n",
       "      <td>6033</td>\n",
       "      <td>2013</td>\n",
       "    </tr>\n",
       "    <tr>\n",
       "      <th>erfrischungsgetraenk</th>\n",
       "      <td>2013-01-09 01:02:16</td>\n",
       "      <td>11318</td>\n",
       "      <td>10455</td>\n",
       "      <td>21773</td>\n",
       "      <td>2013</td>\n",
       "    </tr>\n",
       "    <tr>\n",
       "      <th>s0nderv0gel</th>\n",
       "      <td>2014-09-27 16:25:30</td>\n",
       "      <td>47204</td>\n",
       "      <td>92826</td>\n",
       "      <td>140030</td>\n",
       "      <td>2014</td>\n",
       "    </tr>\n",
       "    <tr>\n",
       "      <th>FlyingLowSH</th>\n",
       "      <td>2014-03-14 18:13:49</td>\n",
       "      <td>51406</td>\n",
       "      <td>238602</td>\n",
       "      <td>290008</td>\n",
       "      <td>2014</td>\n",
       "    </tr>\n",
       "    <tr>\n",
       "      <th>Necrofridge</th>\n",
       "      <td>2014-04-18 21:41:25</td>\n",
       "      <td>1818</td>\n",
       "      <td>64735</td>\n",
       "      <td>66553</td>\n",
       "      <td>2014</td>\n",
       "    </tr>\n",
       "    <tr>\n",
       "      <th>Winterbury</th>\n",
       "      <td>2015-08-23 12:47:55</td>\n",
       "      <td>1575</td>\n",
       "      <td>6922</td>\n",
       "      <td>8497</td>\n",
       "      <td>2015</td>\n",
       "    </tr>\n",
       "    <tr>\n",
       "      <th>Mentioned_Videos</th>\n",
       "      <td>2015-04-07 01:20:16</td>\n",
       "      <td>1</td>\n",
       "      <td>129624</td>\n",
       "      <td>129625</td>\n",
       "      <td>2015</td>\n",
       "    </tr>\n",
       "    <tr>\n",
       "      <th>valentincsgo</th>\n",
       "      <td>2016-05-29 08:27:41</td>\n",
       "      <td>567</td>\n",
       "      <td>62468</td>\n",
       "      <td>63035</td>\n",
       "      <td>2016</td>\n",
       "    </tr>\n",
       "    <tr>\n",
       "      <th>StK84</th>\n",
       "      <td>2016-12-26 01:11:16</td>\n",
       "      <td>6498</td>\n",
       "      <td>86157</td>\n",
       "      <td>92655</td>\n",
       "      <td>2016</td>\n",
       "    </tr>\n",
       "    <tr>\n",
       "      <th>yrgs</th>\n",
       "      <td>2017-02-16 02:32:47</td>\n",
       "      <td>1</td>\n",
       "      <td>15106</td>\n",
       "      <td>15107</td>\n",
       "      <td>2017</td>\n",
       "    </tr>\n",
       "    <tr>\n",
       "      <th>The_Flying_Nacho</th>\n",
       "      <td>2017-09-17 01:55:45</td>\n",
       "      <td>1169</td>\n",
       "      <td>48777</td>\n",
       "      <td>49946</td>\n",
       "      <td>2017</td>\n",
       "    </tr>\n",
       "    <tr>\n",
       "      <th>EmotionalField</th>\n",
       "      <td>2018-07-03 02:35:34</td>\n",
       "      <td>482</td>\n",
       "      <td>5008</td>\n",
       "      <td>5490</td>\n",
       "      <td>2018</td>\n",
       "    </tr>\n",
       "    <tr>\n",
       "      <th>ucel1um</th>\n",
       "      <td>2018-04-30 20:23:27</td>\n",
       "      <td>3243</td>\n",
       "      <td>16574</td>\n",
       "      <td>19817</td>\n",
       "      <td>2018</td>\n",
       "    </tr>\n",
       "    <tr>\n",
       "      <th>EliasNr42</th>\n",
       "      <td>2018-01-03 08:17:35</td>\n",
       "      <td>4868</td>\n",
       "      <td>2291</td>\n",
       "      <td>7159</td>\n",
       "      <td>2018</td>\n",
       "    </tr>\n",
       "    <tr>\n",
       "      <th>NevenSuboticFanNo1</th>\n",
       "      <td>2019-02-16 23:06:02</td>\n",
       "      <td>20946</td>\n",
       "      <td>74495</td>\n",
       "      <td>95441</td>\n",
       "      <td>2019</td>\n",
       "    </tr>\n",
       "    <tr>\n",
       "      <th>high_priestess23</th>\n",
       "      <td>2019-02-27 01:25:20</td>\n",
       "      <td>13663</td>\n",
       "      <td>44570</td>\n",
       "      <td>58233</td>\n",
       "      <td>2019</td>\n",
       "    </tr>\n",
       "    <tr>\n",
       "      <th>XL600V</th>\n",
       "      <td>2019-02-17 19:16:04</td>\n",
       "      <td>97</td>\n",
       "      <td>297</td>\n",
       "      <td>394</td>\n",
       "      <td>2019</td>\n",
       "    </tr>\n",
       "    <tr>\n",
       "      <th>Slow_Scale</th>\n",
       "      <td>2019-09-30 21:32:33</td>\n",
       "      <td>1</td>\n",
       "      <td>1652</td>\n",
       "      <td>1653</td>\n",
       "      <td>2019</td>\n",
       "    </tr>\n",
       "    <tr>\n",
       "      <th>ricksanchez2801</th>\n",
       "      <td>2020-03-19 04:05:43</td>\n",
       "      <td>1</td>\n",
       "      <td>8</td>\n",
       "      <td>9</td>\n",
       "      <td>2020</td>\n",
       "    </tr>\n",
       "  </tbody>\n",
       "</table>\n",
       "</div>"
      ],
      "text/plain": [
       "                                 created  link_karma  comment_karma  \\\n",
       "wozer                2007-08-28 05:16:44        7818          30410   \n",
       "SdifOdh              2012-04-11 07:03:13        8847          35717   \n",
       "EviIution            2012-12-21 18:05:39         158           3128   \n",
       "MazPA                2013-12-19 08:32:02       21696          34617   \n",
       "Jandolino            2013-05-08 04:34:15         422          20670   \n",
       "YeppImNaked          2013-08-21 05:21:47        1392           4892   \n",
       "zieji                2013-04-18 07:27:17         236           5797   \n",
       "erfrischungsgetraenk 2013-01-09 01:02:16       11318          10455   \n",
       "s0nderv0gel          2014-09-27 16:25:30       47204          92826   \n",
       "FlyingLowSH          2014-03-14 18:13:49       51406         238602   \n",
       "Necrofridge          2014-04-18 21:41:25        1818          64735   \n",
       "Winterbury           2015-08-23 12:47:55        1575           6922   \n",
       "Mentioned_Videos     2015-04-07 01:20:16           1         129624   \n",
       "valentincsgo         2016-05-29 08:27:41         567          62468   \n",
       "StK84                2016-12-26 01:11:16        6498          86157   \n",
       "yrgs                 2017-02-16 02:32:47           1          15106   \n",
       "The_Flying_Nacho     2017-09-17 01:55:45        1169          48777   \n",
       "EmotionalField       2018-07-03 02:35:34         482           5008   \n",
       "ucel1um              2018-04-30 20:23:27        3243          16574   \n",
       "EliasNr42            2018-01-03 08:17:35        4868           2291   \n",
       "NevenSuboticFanNo1   2019-02-16 23:06:02       20946          74495   \n",
       "high_priestess23     2019-02-27 01:25:20       13663          44570   \n",
       "XL600V               2019-02-17 19:16:04          97            297   \n",
       "Slow_Scale           2019-09-30 21:32:33           1           1652   \n",
       "ricksanchez2801      2020-03-19 04:05:43           1              8   \n",
       "\n",
       "                      total_karma  year  \n",
       "wozer                       38228  2007  \n",
       "SdifOdh                     44564  2012  \n",
       "EviIution                    3286  2012  \n",
       "MazPA                       56313  2013  \n",
       "Jandolino                   21092  2013  \n",
       "YeppImNaked                  6284  2013  \n",
       "zieji                        6033  2013  \n",
       "erfrischungsgetraenk        21773  2013  \n",
       "s0nderv0gel                140030  2014  \n",
       "FlyingLowSH                290008  2014  \n",
       "Necrofridge                 66553  2014  \n",
       "Winterbury                   8497  2015  \n",
       "Mentioned_Videos           129625  2015  \n",
       "valentincsgo                63035  2016  \n",
       "StK84                       92655  2016  \n",
       "yrgs                        15107  2017  \n",
       "The_Flying_Nacho            49946  2017  \n",
       "EmotionalField               5490  2018  \n",
       "ucel1um                     19817  2018  \n",
       "EliasNr42                    7159  2018  \n",
       "NevenSuboticFanNo1          95441  2019  \n",
       "high_priestess23            58233  2019  \n",
       "XL600V                        394  2019  \n",
       "Slow_Scale                   1653  2019  \n",
       "ricksanchez2801                 9  2020  "
      ]
     },
     "execution_count": 62,
     "metadata": {},
     "output_type": "execute_result"
    }
   ],
   "source": [
    "top_25.sort_values(by='year')"
   ]
  },
  {
   "cell_type": "code",
   "execution_count": 75,
   "metadata": {},
   "outputs": [
    {
     "data": {
      "text/plain": [
       "<matplotlib.axes._subplots.AxesSubplot at 0x1a1f45bc50>"
      ]
     },
     "execution_count": 75,
     "metadata": {},
     "output_type": "execute_result"
    },
    {
     "data": {
      "image/png": "[encoded data removed]",
      "text/plain": [
       "<Figure size 432x288 with 1 Axes>"
      ]
     },
     "metadata": {
      "needs_background": "light"
     },
     "output_type": "display_data"
    }
   ],
   "source": [
    "# creating interpretable plots \n",
    "year = top_25['year'].sort_values()\n",
    "redditors = top_25.index\n",
    "karma = top_25['total_karma']\n",
    "sns.scatterplot(x=year,y=redditors,size=karma)"
   ]
  },
  {
   "cell_type": "code",
   "execution_count": 82,
   "metadata": {},
   "outputs": [
    {
     "data": {
      "text/plain": [
       "<matplotlib.axes._subplots.AxesSubplot at 0x1a1ff79210>"
      ]
     },
     "execution_count": 82,
     "metadata": {},
     "output_type": "execute_result"
    },
    {
     "data": {
      "image/png": "[encoded data removed]",
      "text/plain": [
       "<Figure size 432x288 with 1 Axes>"
      ]
     },
     "metadata": {
      "needs_background": "light"
     },
     "output_type": "display_data"
    }
   ],
   "source": [
    "# showing the distribution of the account creations over the years \n",
    "sns.distplot(year)"
   ]
  },
  {
   "cell_type": "code",
   "execution_count": 16,
   "metadata": {},
   "outputs": [],
   "source": [
    "# defining a kde plot function \n",
    "def kde_plotter(dataframe):\n",
    "    \"\"\"plot a kde plot showing distribution of link karma to comment karma\"\"\"\n",
    "    plt.figure(figsize=(10,(8)))\n",
    "    sns.set_style('darkgrid')\n",
    "    sns.kdeplot(dataframe['link_karma'], shade=True, label='link karma')\n",
    "    sns.kdeplot(dataframe['comment_karma'], shade=True, label= 'comment karma')"
   ]
  },
  {
   "cell_type": "code",
   "execution_count": 17,
   "metadata": {},
   "outputs": [
    {
     "data": {
      "image/png": "[encoded data removed]",
      "text/plain": [
       "<Figure size 720x576 with 1 Axes>"
      ]
     },
     "metadata": {
      "needs_background": "light"
     },
     "output_type": "display_data"
    }
   ],
   "source": [
    "kde_plotter(positive)"
   ]
  },
  {
   "cell_type": "code",
   "execution_count": 20,
   "metadata": {},
   "outputs": [],
   "source": [
    "frame_list =[positive, negative]"
   ]
  },
  {
   "cell_type": "code",
   "execution_count": 22,
   "metadata": {},
   "outputs": [],
   "source": [
    "def test_kde_plotter(frame_list):\n",
    "    \"\"\"plot a kde plot showing distribution of link karma to comment karma\"\"\"\n",
    "    plt.figure(figsize=(10,(8)))\n",
    "    sns.set_style('darkgrid')\n",
    "    for num, frame in enumerate(frame_list):\n",
    "        sns.kdeplot(frame['link_karma'], shade=True, label=f'link karma_{num}')\n",
    "        sns.kdeplot(frame['comment_karma'], shade=True, label= f'comment karma_{num}')"
   ]
  },
  {
   "cell_type": "code",
   "execution_count": 23,
   "metadata": {},
   "outputs": [
    {
     "data": {
      "image/png": "[encoded data removed]",
      "text/plain": [
       "<Figure size 720x576 with 1 Axes>"
      ]
     },
     "metadata": {},
     "output_type": "display_data"
    }
   ],
   "source": [
    "test_kde_plotter(frame_list)"
   ]
  },
  {
   "cell_type": "markdown",
   "metadata": {},
   "source": [
    "### KDE/Distplot interpretation:\n",
    "- there's a smaller distribution of link karma and, generally, most of the karma is in the region of 50k \n",
    "- comment karma is much more distributed and quite a few have achieved high karma numbers through their comments "
   ]
  },
  {
   "cell_type": "markdown",
   "metadata": {},
   "source": [
    "### top 25 weekly redditors observation\n",
    "- can there be found general types within the top 25 redditors?\n",
    "    - how many are \"mostly commenting\"? Are there redditors who mostly submit in the top? \n",
    "    - are there age groups? how would you group them? \n",
    "- there are redditors who almost exclusively comment without sharing links/creating submissions on their own "
   ]
  },
  {
   "cell_type": "code",
   "execution_count": 25,
   "metadata": {},
   "outputs": [
    {
     "data": {
      "text/plain": [
       "<matplotlib.axes._subplots.AxesSubplot at 0x1a1b077ed0>"
      ]
     },
     "execution_count": 25,
     "metadata": {},
     "output_type": "execute_result"
    },
    {
     "data": {
      "image/png": "[encoded data removed]",
      "text/plain": [
       "<Figure size 432x288 with 1 Axes>"
      ]
     },
     "metadata": {
      "needs_background": "light"
     },
     "output_type": "display_data"
    }
   ],
   "source": [
    "top_25.plot(x='link_karma', y='comment_karma', kind='scatter')"
   ]
  },
  {
   "cell_type": "code",
   "execution_count": 26,
   "metadata": {},
   "outputs": [
    {
     "data": {
      "text/plain": [
       "<matplotlib.axes._subplots.AxesSubplot at 0x1a1b183e50>"
      ]
     },
     "execution_count": 26,
     "metadata": {},
     "output_type": "execute_result"
    },
    {
     "data": {
      "image/png": "[encoded data removed]",
      "text/plain": [
       "<Figure size 432x288 with 1 Axes>"
      ]
     },
     "metadata": {
      "needs_background": "light"
     },
     "output_type": "display_data"
    }
   ],
   "source": [
    "top_25.plot(x='created', y='comment_karma', kind='scatter')"
   ]
  },
  {
   "cell_type": "code",
   "execution_count": 28,
   "metadata": {},
   "outputs": [],
   "source": [
    "top_reds = pd.read_csv('top_de_redditors_1May.csv', index_col=0)"
   ]
  },
  {
   "cell_type": "code",
   "execution_count": 33,
   "metadata": {},
   "outputs": [
    {
     "data": {
      "text/html": [
       "<div>\n",
       "<style scoped>\n",
       "    .dataframe tbody tr th:only-of-type {\n",
       "        vertical-align: middle;\n",
       "    }\n",
       "\n",
       "    .dataframe tbody tr th {\n",
       "        vertical-align: top;\n",
       "    }\n",
       "\n",
       "    .dataframe thead th {\n",
       "        text-align: right;\n",
       "    }\n",
       "</style>\n",
       "<table border=\"1\" class=\"dataframe\">\n",
       "  <thead>\n",
       "    <tr style=\"text-align: right;\">\n",
       "      <th></th>\n",
       "      <th>num_comments</th>\n",
       "      <th>score</th>\n",
       "    </tr>\n",
       "  </thead>\n",
       "  <tbody>\n",
       "    <tr>\n",
       "      <th>MannAusSachsen</th>\n",
       "      <td>17</td>\n",
       "      <td>1172</td>\n",
       "    </tr>\n",
       "    <tr>\n",
       "      <th>HuhuBiks</th>\n",
       "      <td>1</td>\n",
       "      <td>850</td>\n",
       "    </tr>\n",
       "    <tr>\n",
       "      <th>niklaszantner</th>\n",
       "      <td>1</td>\n",
       "      <td>661</td>\n",
       "    </tr>\n",
       "    <tr>\n",
       "      <th>schupfnudel_12</th>\n",
       "      <td>1</td>\n",
       "      <td>624</td>\n",
       "    </tr>\n",
       "    <tr>\n",
       "      <th>kleinerkathe</th>\n",
       "      <td>2</td>\n",
       "      <td>583</td>\n",
       "    </tr>\n",
       "    <tr>\n",
       "      <th>zuadfg</th>\n",
       "      <td>2</td>\n",
       "      <td>514</td>\n",
       "    </tr>\n",
       "    <tr>\n",
       "      <th>Blaukraut_Brautkleid</th>\n",
       "      <td>5</td>\n",
       "      <td>496</td>\n",
       "    </tr>\n",
       "    <tr>\n",
       "      <th>KasimirDD</th>\n",
       "      <td>6</td>\n",
       "      <td>453</td>\n",
       "    </tr>\n",
       "    <tr>\n",
       "      <th>Lasagsey</th>\n",
       "      <td>3</td>\n",
       "      <td>449</td>\n",
       "    </tr>\n",
       "    <tr>\n",
       "      <th>MRockXxx</th>\n",
       "      <td>2</td>\n",
       "      <td>424</td>\n",
       "    </tr>\n",
       "    <tr>\n",
       "      <th>FPiN9XU3K1IT</th>\n",
       "      <td>6</td>\n",
       "      <td>414</td>\n",
       "    </tr>\n",
       "    <tr>\n",
       "      <th>DerBK</th>\n",
       "      <td>1</td>\n",
       "      <td>395</td>\n",
       "    </tr>\n",
       "    <tr>\n",
       "      <th>Schreckberger</th>\n",
       "      <td>15</td>\n",
       "      <td>373</td>\n",
       "    </tr>\n",
       "    <tr>\n",
       "      <th>Freiheitskemper</th>\n",
       "      <td>12</td>\n",
       "      <td>334</td>\n",
       "    </tr>\n",
       "    <tr>\n",
       "      <th>x0xk</th>\n",
       "      <td>12</td>\n",
       "      <td>328</td>\n",
       "    </tr>\n",
       "    <tr>\n",
       "      <th>BubiBalboa</th>\n",
       "      <td>6</td>\n",
       "      <td>324</td>\n",
       "    </tr>\n",
       "    <tr>\n",
       "      <th>DomWaits</th>\n",
       "      <td>3</td>\n",
       "      <td>321</td>\n",
       "    </tr>\n",
       "    <tr>\n",
       "      <th>LittleLui</th>\n",
       "      <td>5</td>\n",
       "      <td>312</td>\n",
       "    </tr>\n",
       "    <tr>\n",
       "      <th>sdcSpade</th>\n",
       "      <td>1</td>\n",
       "      <td>309</td>\n",
       "    </tr>\n",
       "    <tr>\n",
       "      <th>TetraDax</th>\n",
       "      <td>14</td>\n",
       "      <td>303</td>\n",
       "    </tr>\n",
       "    <tr>\n",
       "      <th>Booby_McTitties</th>\n",
       "      <td>2</td>\n",
       "      <td>302</td>\n",
       "    </tr>\n",
       "    <tr>\n",
       "      <th>SockRuse</th>\n",
       "      <td>2</td>\n",
       "      <td>278</td>\n",
       "    </tr>\n",
       "    <tr>\n",
       "      <th>UnpoliticalPenguin</th>\n",
       "      <td>1</td>\n",
       "      <td>276</td>\n",
       "    </tr>\n",
       "    <tr>\n",
       "      <th>photenth</th>\n",
       "      <td>10</td>\n",
       "      <td>265</td>\n",
       "    </tr>\n",
       "    <tr>\n",
       "      <th>JellyPuff</th>\n",
       "      <td>4</td>\n",
       "      <td>261</td>\n",
       "    </tr>\n",
       "  </tbody>\n",
       "</table>\n",
       "</div>"
      ],
      "text/plain": [
       "                      num_comments  score\n",
       "MannAusSachsen                  17   1172\n",
       "HuhuBiks                         1    850\n",
       "niklaszantner                    1    661\n",
       "schupfnudel_12                   1    624\n",
       "kleinerkathe                     2    583\n",
       "zuadfg                           2    514\n",
       "Blaukraut_Brautkleid             5    496\n",
       "KasimirDD                        6    453\n",
       "Lasagsey                         3    449\n",
       "MRockXxx                         2    424\n",
       "FPiN9XU3K1IT                     6    414\n",
       "DerBK                            1    395\n",
       "Schreckberger                   15    373\n",
       "Freiheitskemper                 12    334\n",
       "x0xk                            12    328\n",
       "BubiBalboa                       6    324\n",
       "DomWaits                         3    321\n",
       "LittleLui                        5    312\n",
       "sdcSpade                         1    309\n",
       "TetraDax                        14    303\n",
       "Booby_McTitties                  2    302\n",
       "SockRuse                         2    278\n",
       "UnpoliticalPenguin               1    276\n",
       "photenth                        10    265\n",
       "JellyPuff                        4    261"
      ]
     },
     "execution_count": 33,
     "metadata": {},
     "output_type": "execute_result"
    }
   ],
   "source": [
    "top_reds.sort_values(by='score', ascending=False).head(25)"
   ]
  },
  {
   "cell_type": "code",
   "execution_count": 180,
   "metadata": {
    "scrolled": true
   },
   "outputs": [
    {
     "data": {
      "text/plain": [
       "<matplotlib.axes._subplots.AxesSubplot at 0x1a27e8ba50>"
      ]
     },
     "execution_count": 180,
     "metadata": {},
     "output_type": "execute_result"
    },
    {
     "data": {
      "image/png": "[encoded data removed]",
      "text/plain": [
       "<Figure size 432x288 with 1 Axes>"
      ]
     },
     "metadata": {
      "needs_background": "light"
     },
     "output_type": "display_data"
    }
   ],
   "source": [
    "# plot that ish\n",
    "\n",
    "top_reds.plot(x='num_comments', y='score', kind='scatter')"
   ]
  },
  {
   "cell_type": "code",
   "execution_count": 7,
   "metadata": {},
   "outputs": [
    {
     "data": {
      "text/plain": [
       "<matplotlib.axes._subplots.AxesSubplot at 0x1a255d03d0>"
      ]
     },
     "execution_count": 7,
     "metadata": {},
     "output_type": "execute_result"
    },
    {
     "data": {
      "image/png": "[encoded data removed]",
      "text/plain": [
       "<Figure size 432x288 with 1 Axes>"
      ]
     },
     "metadata": {
      "needs_background": "light"
     },
     "output_type": "display_data"
    }
   ],
   "source": [
    "sns.barplot(data=top_reds, x=top_reds['num_comments'], y=top_reds['score'])"
   ]
  },
  {
   "cell_type": "code",
   "execution_count": 6,
   "metadata": {},
   "outputs": [
    {
     "data": {
      "text/plain": [
       "<matplotlib.axes._subplots.AxesSubplot at 0x1a25237ad0>"
      ]
     },
     "execution_count": 6,
     "metadata": {},
     "output_type": "execute_result"
    },
    {
     "data": {
      "image/png": "[encoded data removed]",
      "text/plain": [
       "<Figure size 432x288 with 1 Axes>"
      ]
     },
     "metadata": {
      "needs_background": "light"
     },
     "output_type": "display_data"
    }
   ],
   "source": [
    "sns.scatterplot(data=top_reds, x=top_reds['num_comments'], y=top_reds['score'])"
   ]
  },
  {
   "cell_type": "code",
   "execution_count": 8,
   "metadata": {},
   "outputs": [
    {
     "data": {
      "text/plain": [
       "<matplotlib.axes._subplots.AxesSubplot at 0x1a25791e50>"
      ]
     },
     "execution_count": 8,
     "metadata": {},
     "output_type": "execute_result"
    },
    {
     "data": {
      "image/png": "[encoded data removed]",
      "text/plain": [
       "<Figure size 432x288 with 1 Axes>"
      ]
     },
     "metadata": {
      "needs_background": "light"
     },
     "output_type": "display_data"
    }
   ],
   "source": [
    "# in the regplot we see a slight correlation between number of comments and the score \n",
    "sns.regplot(data=top_reds, x=top_reds['num_comments'], y=top_reds['score'])"
   ]
  },
  {
   "cell_type": "markdown",
   "metadata": {},
   "source": [
    "### removing outliers to get a clearer picture\n"
   ]
  },
  {
   "cell_type": "code",
   "execution_count": 14,
   "metadata": {},
   "outputs": [
    {
     "data": {
      "text/plain": [
       "<matplotlib.axes._subplots.AxesSubplot at 0x1a25a795d0>"
      ]
     },
     "execution_count": 14,
     "metadata": {},
     "output_type": "execute_result"
    },
    {
     "data": {
      "image/png": "[encoded data removed]",
      "text/plain": [
       "<Figure size 432x288 with 1 Axes>"
      ]
     },
     "metadata": {
      "needs_background": "light"
     },
     "output_type": "display_data"
    }
   ],
   "source": [
    "top_red_adjust = top_reds[(top_reds['num_comments'] < 40) & (top_reds['score'] < 800)]\n",
    "sns.regplot(data=top_red_adjust, x=top_red_adjust['num_comments'], y=top_red_adjust['score'])"
   ]
  },
  {
   "cell_type": "code",
   "execution_count": 12,
   "metadata": {},
   "outputs": [
    {
     "data": {
      "text/html": [
       "<div>\n",
       "<style scoped>\n",
       "    .dataframe tbody tr th:only-of-type {\n",
       "        vertical-align: middle;\n",
       "    }\n",
       "\n",
       "    .dataframe tbody tr th {\n",
       "        vertical-align: top;\n",
       "    }\n",
       "\n",
       "    .dataframe thead th {\n",
       "        text-align: right;\n",
       "    }\n",
       "</style>\n",
       "<table border=\"1\" class=\"dataframe\">\n",
       "  <thead>\n",
       "    <tr style=\"text-align: right;\">\n",
       "      <th></th>\n",
       "      <th>num_comments</th>\n",
       "      <th>score</th>\n",
       "    </tr>\n",
       "  </thead>\n",
       "  <tbody>\n",
       "    <tr>\n",
       "      <th>count</th>\n",
       "      <td>1897.000000</td>\n",
       "      <td>1897.000000</td>\n",
       "    </tr>\n",
       "    <tr>\n",
       "      <th>mean</th>\n",
       "      <td>2.406431</td>\n",
       "      <td>23.726410</td>\n",
       "    </tr>\n",
       "    <tr>\n",
       "      <th>std</th>\n",
       "      <td>2.885257</td>\n",
       "      <td>56.198211</td>\n",
       "    </tr>\n",
       "    <tr>\n",
       "      <th>min</th>\n",
       "      <td>1.000000</td>\n",
       "      <td>-168.000000</td>\n",
       "    </tr>\n",
       "    <tr>\n",
       "      <th>25%</th>\n",
       "      <td>1.000000</td>\n",
       "      <td>2.000000</td>\n",
       "    </tr>\n",
       "    <tr>\n",
       "      <th>50%</th>\n",
       "      <td>1.000000</td>\n",
       "      <td>6.000000</td>\n",
       "    </tr>\n",
       "    <tr>\n",
       "      <th>75%</th>\n",
       "      <td>2.000000</td>\n",
       "      <td>22.000000</td>\n",
       "    </tr>\n",
       "    <tr>\n",
       "      <th>max</th>\n",
       "      <td>32.000000</td>\n",
       "      <td>661.000000</td>\n",
       "    </tr>\n",
       "  </tbody>\n",
       "</table>\n",
       "</div>"
      ],
      "text/plain": [
       "       num_comments        score\n",
       "count   1897.000000  1897.000000\n",
       "mean       2.406431    23.726410\n",
       "std        2.885257    56.198211\n",
       "min        1.000000  -168.000000\n",
       "25%        1.000000     2.000000\n",
       "50%        1.000000     6.000000\n",
       "75%        2.000000    22.000000\n",
       "max       32.000000   661.000000"
      ]
     },
     "execution_count": 12,
     "metadata": {},
     "output_type": "execute_result"
    }
   ],
   "source": [
    "top_red_adjust.describe()"
   ]
  },
  {
   "cell_type": "code",
   "execution_count": 9,
   "metadata": {},
   "outputs": [
    {
     "data": {
      "text/plain": [
       "<matplotlib.axes._subplots.AxesSubplot at 0x1a1e680c50>"
      ]
     },
     "execution_count": 9,
     "metadata": {},
     "output_type": "execute_result"
    },
    {
     "data": {
      "image/png": "[encoded data removed]",
      "text/plain": [
       "<Figure size 432x288 with 1 Axes>"
      ]
     },
     "metadata": {
      "needs_background": "light"
     },
     "output_type": "display_data"
    }
   ],
   "source": [
    "top_reds['score'].sort_values().plot()"
   ]
  },
  {
   "cell_type": "code",
   "execution_count": 54,
   "metadata": {},
   "outputs": [
    {
     "data": {
      "text/plain": [
       "Soref                -168\n",
       "Disciplinaryspank    -129\n",
       "hileutee             -111\n",
       "Impulseps             -96\n",
       "alphabetsong          -78\n",
       "                     ... \n",
       "kleinerkathe          583\n",
       "schupfnudel_12        624\n",
       "niklaszantner         661\n",
       "HuhuBiks              850\n",
       "MannAusSachsen       1172\n",
       "Name: score, Length: 1901, dtype: int64"
      ]
     },
     "execution_count": 54,
     "metadata": {},
     "output_type": "execute_result"
    }
   ],
   "source": [
    "top_reds['score'].sort_values()"
   ]
  },
  {
   "cell_type": "markdown",
   "metadata": {},
   "source": [
    "### Question: what can be said about the redditors with the top/lowest %5 score?"
   ]
  },
  {
   "cell_type": "code",
   "execution_count": 56,
   "metadata": {},
   "outputs": [
    {
     "data": {
      "text/plain": [
       "95.05000000000001"
      ]
     },
     "execution_count": 56,
     "metadata": {},
     "output_type": "execute_result"
    }
   ],
   "source": [
    "# how many indices represent 5%? -> answer: 95 \n",
    "top_reds['score'].sort_values().shape[0] * 0.05"
   ]
  },
  {
   "cell_type": "code",
   "execution_count": 62,
   "metadata": {},
   "outputs": [],
   "source": [
    "worst_score = top_reds.sort_values(by='score').iloc[:96]\n",
    "best_score = top_reds.sort_values(by='score').iloc[-96:]"
   ]
  },
  {
   "cell_type": "code",
   "execution_count": 22,
   "metadata": {},
   "outputs": [],
   "source": [
    "# assumption: high comments to negative score -> troll account \n",
    "\n",
    "neg_score = top_reds[top_reds['score'] < 0]"
   ]
  },
  {
   "cell_type": "code",
   "execution_count": 32,
   "metadata": {},
   "outputs": [
    {
     "data": {
      "text/html": [
       "<div>\n",
       "<style scoped>\n",
       "    .dataframe tbody tr th:only-of-type {\n",
       "        vertical-align: middle;\n",
       "    }\n",
       "\n",
       "    .dataframe tbody tr th {\n",
       "        vertical-align: top;\n",
       "    }\n",
       "\n",
       "    .dataframe thead th {\n",
       "        text-align: right;\n",
       "    }\n",
       "</style>\n",
       "<table border=\"1\" class=\"dataframe\">\n",
       "  <thead>\n",
       "    <tr style=\"text-align: right;\">\n",
       "      <th></th>\n",
       "      <th>num_comments</th>\n",
       "      <th>score</th>\n",
       "    </tr>\n",
       "  </thead>\n",
       "  <tbody>\n",
       "    <tr>\n",
       "      <th>Polygnom</th>\n",
       "      <td>15</td>\n",
       "      <td>202</td>\n",
       "    </tr>\n",
       "    <tr>\n",
       "      <th>flingerdu</th>\n",
       "      <td>16</td>\n",
       "      <td>203</td>\n",
       "    </tr>\n",
       "    <tr>\n",
       "      <th>antifragile89</th>\n",
       "      <td>16</td>\n",
       "      <td>203</td>\n",
       "    </tr>\n",
       "    <tr>\n",
       "      <th>TheYang</th>\n",
       "      <td>4</td>\n",
       "      <td>205</td>\n",
       "    </tr>\n",
       "    <tr>\n",
       "      <th>Fatkuh</th>\n",
       "      <td>20</td>\n",
       "      <td>206</td>\n",
       "    </tr>\n",
       "    <tr>\n",
       "      <th>greikini</th>\n",
       "      <td>2</td>\n",
       "      <td>207</td>\n",
       "    </tr>\n",
       "    <tr>\n",
       "      <th>breaddrink</th>\n",
       "      <td>7</td>\n",
       "      <td>233</td>\n",
       "    </tr>\n",
       "    <tr>\n",
       "      <th>Patricia_W</th>\n",
       "      <td>2</td>\n",
       "      <td>234</td>\n",
       "    </tr>\n",
       "    <tr>\n",
       "      <th>ibosen</th>\n",
       "      <td>10</td>\n",
       "      <td>235</td>\n",
       "    </tr>\n",
       "    <tr>\n",
       "      <th>TheGermanKarlMarx</th>\n",
       "      <td>1</td>\n",
       "      <td>236</td>\n",
       "    </tr>\n",
       "    <tr>\n",
       "      <th>Rongrako</th>\n",
       "      <td>3</td>\n",
       "      <td>243</td>\n",
       "    </tr>\n",
       "    <tr>\n",
       "      <th>julian2811</th>\n",
       "      <td>10</td>\n",
       "      <td>246</td>\n",
       "    </tr>\n",
       "    <tr>\n",
       "      <th>regdayrf2</th>\n",
       "      <td>13</td>\n",
       "      <td>247</td>\n",
       "    </tr>\n",
       "    <tr>\n",
       "      <th>GirasoleDE</th>\n",
       "      <td>22</td>\n",
       "      <td>254</td>\n",
       "    </tr>\n",
       "    <tr>\n",
       "      <th>couchrealistic</th>\n",
       "      <td>14</td>\n",
       "      <td>254</td>\n",
       "    </tr>\n",
       "    <tr>\n",
       "      <th>JellyPuff</th>\n",
       "      <td>4</td>\n",
       "      <td>261</td>\n",
       "    </tr>\n",
       "    <tr>\n",
       "      <th>photenth</th>\n",
       "      <td>10</td>\n",
       "      <td>265</td>\n",
       "    </tr>\n",
       "    <tr>\n",
       "      <th>UnpoliticalPenguin</th>\n",
       "      <td>1</td>\n",
       "      <td>276</td>\n",
       "    </tr>\n",
       "    <tr>\n",
       "      <th>SockRuse</th>\n",
       "      <td>2</td>\n",
       "      <td>278</td>\n",
       "    </tr>\n",
       "    <tr>\n",
       "      <th>Booby_McTitties</th>\n",
       "      <td>2</td>\n",
       "      <td>302</td>\n",
       "    </tr>\n",
       "    <tr>\n",
       "      <th>TetraDax</th>\n",
       "      <td>14</td>\n",
       "      <td>303</td>\n",
       "    </tr>\n",
       "    <tr>\n",
       "      <th>sdcSpade</th>\n",
       "      <td>1</td>\n",
       "      <td>309</td>\n",
       "    </tr>\n",
       "    <tr>\n",
       "      <th>LittleLui</th>\n",
       "      <td>5</td>\n",
       "      <td>312</td>\n",
       "    </tr>\n",
       "    <tr>\n",
       "      <th>DomWaits</th>\n",
       "      <td>3</td>\n",
       "      <td>321</td>\n",
       "    </tr>\n",
       "    <tr>\n",
       "      <th>BubiBalboa</th>\n",
       "      <td>6</td>\n",
       "      <td>324</td>\n",
       "    </tr>\n",
       "    <tr>\n",
       "      <th>x0xk</th>\n",
       "      <td>12</td>\n",
       "      <td>328</td>\n",
       "    </tr>\n",
       "    <tr>\n",
       "      <th>Freiheitskemper</th>\n",
       "      <td>12</td>\n",
       "      <td>334</td>\n",
       "    </tr>\n",
       "    <tr>\n",
       "      <th>Schreckberger</th>\n",
       "      <td>15</td>\n",
       "      <td>373</td>\n",
       "    </tr>\n",
       "    <tr>\n",
       "      <th>DerBK</th>\n",
       "      <td>1</td>\n",
       "      <td>395</td>\n",
       "    </tr>\n",
       "    <tr>\n",
       "      <th>FPiN9XU3K1IT</th>\n",
       "      <td>6</td>\n",
       "      <td>414</td>\n",
       "    </tr>\n",
       "    <tr>\n",
       "      <th>MRockXxx</th>\n",
       "      <td>2</td>\n",
       "      <td>424</td>\n",
       "    </tr>\n",
       "    <tr>\n",
       "      <th>Lasagsey</th>\n",
       "      <td>3</td>\n",
       "      <td>449</td>\n",
       "    </tr>\n",
       "    <tr>\n",
       "      <th>KasimirDD</th>\n",
       "      <td>6</td>\n",
       "      <td>453</td>\n",
       "    </tr>\n",
       "    <tr>\n",
       "      <th>Blaukraut_Brautkleid</th>\n",
       "      <td>5</td>\n",
       "      <td>496</td>\n",
       "    </tr>\n",
       "    <tr>\n",
       "      <th>zuadfg</th>\n",
       "      <td>2</td>\n",
       "      <td>514</td>\n",
       "    </tr>\n",
       "    <tr>\n",
       "      <th>kleinerkathe</th>\n",
       "      <td>2</td>\n",
       "      <td>583</td>\n",
       "    </tr>\n",
       "    <tr>\n",
       "      <th>schupfnudel_12</th>\n",
       "      <td>1</td>\n",
       "      <td>624</td>\n",
       "    </tr>\n",
       "    <tr>\n",
       "      <th>niklaszantner</th>\n",
       "      <td>1</td>\n",
       "      <td>661</td>\n",
       "    </tr>\n",
       "    <tr>\n",
       "      <th>HuhuBiks</th>\n",
       "      <td>1</td>\n",
       "      <td>850</td>\n",
       "    </tr>\n",
       "    <tr>\n",
       "      <th>MannAusSachsen</th>\n",
       "      <td>17</td>\n",
       "      <td>1172</td>\n",
       "    </tr>\n",
       "  </tbody>\n",
       "</table>\n",
       "</div>"
      ],
      "text/plain": [
       "                      num_comments  score\n",
       "Polygnom                        15    202\n",
       "flingerdu                       16    203\n",
       "antifragile89                   16    203\n",
       "TheYang                          4    205\n",
       "Fatkuh                          20    206\n",
       "greikini                         2    207\n",
       "breaddrink                       7    233\n",
       "Patricia_W                       2    234\n",
       "ibosen                          10    235\n",
       "TheGermanKarlMarx                1    236\n",
       "Rongrako                         3    243\n",
       "julian2811                      10    246\n",
       "regdayrf2                       13    247\n",
       "GirasoleDE                      22    254\n",
       "couchrealistic                  14    254\n",
       "JellyPuff                        4    261\n",
       "photenth                        10    265\n",
       "UnpoliticalPenguin               1    276\n",
       "SockRuse                         2    278\n",
       "Booby_McTitties                  2    302\n",
       "TetraDax                        14    303\n",
       "sdcSpade                         1    309\n",
       "LittleLui                        5    312\n",
       "DomWaits                         3    321\n",
       "BubiBalboa                       6    324\n",
       "x0xk                            12    328\n",
       "Freiheitskemper                 12    334\n",
       "Schreckberger                   15    373\n",
       "DerBK                            1    395\n",
       "FPiN9XU3K1IT                     6    414\n",
       "MRockXxx                         2    424\n",
       "Lasagsey                         3    449\n",
       "KasimirDD                        6    453\n",
       "Blaukraut_Brautkleid             5    496\n",
       "zuadfg                           2    514\n",
       "kleinerkathe                     2    583\n",
       "schupfnudel_12                   1    624\n",
       "niklaszantner                    1    661\n",
       "HuhuBiks                         1    850\n",
       "MannAusSachsen                  17   1172"
      ]
     },
     "execution_count": 32,
     "metadata": {},
     "output_type": "execute_result"
    }
   ],
   "source": [
    "pos_score = top_reds[top_reds['score'] > 200].sort_values(by='score')\n",
    "pos_score"
   ]
  },
  {
   "cell_type": "code",
   "execution_count": 28,
   "metadata": {},
   "outputs": [
    {
     "data": {
      "text/html": [
       "<div>\n",
       "<style scoped>\n",
       "    .dataframe tbody tr th:only-of-type {\n",
       "        vertical-align: middle;\n",
       "    }\n",
       "\n",
       "    .dataframe tbody tr th {\n",
       "        vertical-align: top;\n",
       "    }\n",
       "\n",
       "    .dataframe thead th {\n",
       "        text-align: right;\n",
       "    }\n",
       "</style>\n",
       "<table border=\"1\" class=\"dataframe\">\n",
       "  <thead>\n",
       "    <tr style=\"text-align: right;\">\n",
       "      <th></th>\n",
       "      <th>num_comments</th>\n",
       "      <th>score</th>\n",
       "    </tr>\n",
       "  </thead>\n",
       "  <tbody>\n",
       "    <tr>\n",
       "      <th>Impulseps</th>\n",
       "      <td>12</td>\n",
       "      <td>-96</td>\n",
       "    </tr>\n",
       "    <tr>\n",
       "      <th>R1Lo2</th>\n",
       "      <td>6</td>\n",
       "      <td>-6</td>\n",
       "    </tr>\n",
       "    <tr>\n",
       "      <th>None</th>\n",
       "      <td>41</td>\n",
       "      <td>-53</td>\n",
       "    </tr>\n",
       "    <tr>\n",
       "      <th>itz_MaXii</th>\n",
       "      <td>1</td>\n",
       "      <td>-1</td>\n",
       "    </tr>\n",
       "    <tr>\n",
       "      <th>EnvironmentalBass1</th>\n",
       "      <td>7</td>\n",
       "      <td>-6</td>\n",
       "    </tr>\n",
       "    <tr>\n",
       "      <th>...</th>\n",
       "      <td>...</td>\n",
       "      <td>...</td>\n",
       "    </tr>\n",
       "    <tr>\n",
       "      <th>netznutzniesser</th>\n",
       "      <td>1</td>\n",
       "      <td>-6</td>\n",
       "    </tr>\n",
       "    <tr>\n",
       "      <th>lagerregal</th>\n",
       "      <td>2</td>\n",
       "      <td>-8</td>\n",
       "    </tr>\n",
       "    <tr>\n",
       "      <th>votiwo</th>\n",
       "      <td>9</td>\n",
       "      <td>-14</td>\n",
       "    </tr>\n",
       "    <tr>\n",
       "      <th>Wegwerf540</th>\n",
       "      <td>1</td>\n",
       "      <td>-1</td>\n",
       "    </tr>\n",
       "    <tr>\n",
       "      <th>kratistos</th>\n",
       "      <td>1</td>\n",
       "      <td>-1</td>\n",
       "    </tr>\n",
       "  </tbody>\n",
       "</table>\n",
       "<p>78 rows × 2 columns</p>\n",
       "</div>"
      ],
      "text/plain": [
       "                    num_comments  score\n",
       "Impulseps                     12    -96\n",
       "R1Lo2                          6     -6\n",
       "None                          41    -53\n",
       "itz_MaXii                      1     -1\n",
       "EnvironmentalBass1             7     -6\n",
       "...                          ...    ...\n",
       "netznutzniesser                1     -6\n",
       "lagerregal                     2     -8\n",
       "votiwo                         9    -14\n",
       "Wegwerf540                     1     -1\n",
       "kratistos                      1     -1\n",
       "\n",
       "[78 rows x 2 columns]"
      ]
     },
     "execution_count": 28,
     "metadata": {},
     "output_type": "execute_result"
    }
   ],
   "source": [
    "neg_score"
   ]
  },
  {
   "cell_type": "markdown",
   "metadata": {},
   "source": [
    "### Learnings from looking at negative accounts\n",
    "- 0.9% of comments in 'top' r/de are made by deleted accounts -> how does that fare in 'new'?"
   ]
  },
  {
   "cell_type": "code",
   "execution_count": 30,
   "metadata": {},
   "outputs": [
    {
     "data": {
      "text/plain": [
       "0.00871413390010627"
      ]
     },
     "execution_count": 30,
     "metadata": {},
     "output_type": "execute_result"
    }
   ],
   "source": [
    "top_reds.loc['None']['num_comments']/top_reds['num_comments'].sum()"
   ]
  },
  {
   "cell_type": "code",
   "execution_count": 21,
   "metadata": {},
   "outputs": [
    {
     "data": {
      "text/plain": [
       "num_comments    41\n",
       "score          -53\n",
       "Name: None, dtype: int64"
      ]
     },
     "execution_count": 21,
     "metadata": {},
     "output_type": "execute_result"
    }
   ],
   "source": [
    "top_reds.loc['None']"
   ]
  },
  {
   "cell_type": "code",
   "execution_count": null,
   "metadata": {},
   "outputs": [],
   "source": []
  },
  {
   "cell_type": "code",
   "execution_count": 17,
   "metadata": {},
   "outputs": [
    {
     "data": {
      "text/html": [
       "<div>\n",
       "<style scoped>\n",
       "    .dataframe tbody tr th:only-of-type {\n",
       "        vertical-align: middle;\n",
       "    }\n",
       "\n",
       "    .dataframe tbody tr th {\n",
       "        vertical-align: top;\n",
       "    }\n",
       "\n",
       "    .dataframe thead th {\n",
       "        text-align: right;\n",
       "    }\n",
       "</style>\n",
       "<table border=\"1\" class=\"dataframe\">\n",
       "  <thead>\n",
       "    <tr style=\"text-align: right;\">\n",
       "      <th></th>\n",
       "      <th>num_comments</th>\n",
       "      <th>score</th>\n",
       "    </tr>\n",
       "  </thead>\n",
       "  <tbody>\n",
       "  </tbody>\n",
       "</table>\n",
       "</div>"
      ],
      "text/plain": [
       "Empty DataFrame\n",
       "Columns: [num_comments, score]\n",
       "Index: []"
      ]
     },
     "execution_count": 17,
     "metadata": {},
     "output_type": "execute_result"
    }
   ],
   "source": [
    "top_reds[top_reds.index.isna()]"
   ]
  },
  {
   "cell_type": "code",
   "execution_count": 174,
   "metadata": {},
   "outputs": [
    {
     "data": {
      "text/html": [
       "<div>\n",
       "<style scoped>\n",
       "    .dataframe tbody tr th:only-of-type {\n",
       "        vertical-align: middle;\n",
       "    }\n",
       "\n",
       "    .dataframe tbody tr th {\n",
       "        vertical-align: top;\n",
       "    }\n",
       "\n",
       "    .dataframe thead th {\n",
       "        text-align: right;\n",
       "    }\n",
       "</style>\n",
       "<table border=\"1\" class=\"dataframe\">\n",
       "  <thead>\n",
       "    <tr style=\"text-align: right;\">\n",
       "      <th></th>\n",
       "      <th>num_comments</th>\n",
       "      <th>score</th>\n",
       "    </tr>\n",
       "  </thead>\n",
       "  <tbody>\n",
       "    <tr>\n",
       "      <th>knuckles1995</th>\n",
       "      <td>81</td>\n",
       "      <td>165</td>\n",
       "    </tr>\n",
       "  </tbody>\n",
       "</table>\n",
       "</div>"
      ],
      "text/plain": [
       "              num_comments  score\n",
       "knuckles1995            81    165"
      ]
     },
     "execution_count": 174,
     "metadata": {},
     "output_type": "execute_result"
    }
   ],
   "source": [
    "top_reds[top_reds['num_comments'] == top_reds['num_comments'].max()]"
   ]
  },
  {
   "cell_type": "code",
   "execution_count": 175,
   "metadata": {},
   "outputs": [
    {
     "data": {
      "text/html": [
       "<div>\n",
       "<style scoped>\n",
       "    .dataframe tbody tr th:only-of-type {\n",
       "        vertical-align: middle;\n",
       "    }\n",
       "\n",
       "    .dataframe tbody tr th {\n",
       "        vertical-align: top;\n",
       "    }\n",
       "\n",
       "    .dataframe thead th {\n",
       "        text-align: right;\n",
       "    }\n",
       "</style>\n",
       "<table border=\"1\" class=\"dataframe\">\n",
       "  <thead>\n",
       "    <tr style=\"text-align: right;\">\n",
       "      <th></th>\n",
       "      <th>num_comments</th>\n",
       "      <th>score</th>\n",
       "    </tr>\n",
       "  </thead>\n",
       "  <tbody>\n",
       "    <tr>\n",
       "      <th>MannAusSachsen</th>\n",
       "      <td>17</td>\n",
       "      <td>1172</td>\n",
       "    </tr>\n",
       "  </tbody>\n",
       "</table>\n",
       "</div>"
      ],
      "text/plain": [
       "                num_comments  score\n",
       "MannAusSachsen            17   1172"
      ]
     },
     "execution_count": 175,
     "metadata": {},
     "output_type": "execute_result"
    }
   ],
   "source": [
    "top_reds[top_reds['score'] == top_reds['score'].max()]"
   ]
  },
  {
   "cell_type": "code",
   "execution_count": 176,
   "metadata": {},
   "outputs": [
    {
     "data": {
      "text/html": [
       "<div>\n",
       "<style scoped>\n",
       "    .dataframe tbody tr th:only-of-type {\n",
       "        vertical-align: middle;\n",
       "    }\n",
       "\n",
       "    .dataframe tbody tr th {\n",
       "        vertical-align: top;\n",
       "    }\n",
       "\n",
       "    .dataframe thead th {\n",
       "        text-align: right;\n",
       "    }\n",
       "</style>\n",
       "<table border=\"1\" class=\"dataframe\">\n",
       "  <thead>\n",
       "    <tr style=\"text-align: right;\">\n",
       "      <th></th>\n",
       "      <th>num_comments</th>\n",
       "      <th>score</th>\n",
       "    </tr>\n",
       "  </thead>\n",
       "  <tbody>\n",
       "    <tr>\n",
       "      <th>Soref</th>\n",
       "      <td>1</td>\n",
       "      <td>-168</td>\n",
       "    </tr>\n",
       "  </tbody>\n",
       "</table>\n",
       "</div>"
      ],
      "text/plain": [
       "       num_comments  score\n",
       "Soref             1   -168"
      ]
     },
     "execution_count": 176,
     "metadata": {},
     "output_type": "execute_result"
    }
   ],
   "source": [
    "top_reds[top_reds['score'] == top_reds['score'].min()]"
   ]
  },
  {
   "cell_type": "code",
   "execution_count": 177,
   "metadata": {},
   "outputs": [],
   "source": [
    "# reading in the author frames \n",
    "redditor = pd.read_csv('kotkaiser_redditor', index_col=0)"
   ]
  },
  {
   "cell_type": "code",
   "execution_count": 8,
   "metadata": {},
   "outputs": [],
   "source": [
    "redditor = word_counter(redditor)"
   ]
  },
  {
   "cell_type": "code",
   "execution_count": 9,
   "metadata": {},
   "outputs": [
    {
     "data": {
      "text/html": [
       "<div>\n",
       "<style scoped>\n",
       "    .dataframe tbody tr th:only-of-type {\n",
       "        vertical-align: middle;\n",
       "    }\n",
       "\n",
       "    .dataframe tbody tr th {\n",
       "        vertical-align: top;\n",
       "    }\n",
       "\n",
       "    .dataframe thead th {\n",
       "        text-align: right;\n",
       "    }\n",
       "</style>\n",
       "<table border=\"1\" class=\"dataframe\">\n",
       "  <thead>\n",
       "    <tr style=\"text-align: right;\">\n",
       "      <th></th>\n",
       "      <th>body</th>\n",
       "      <th>score</th>\n",
       "      <th>created</th>\n",
       "      <th>word_num</th>\n",
       "    </tr>\n",
       "  </thead>\n",
       "  <tbody>\n",
       "    <tr>\n",
       "      <th>0</th>\n",
       "      <td>\"Sach ma, wat macht dein Nachbar da?\"\\n\\n\"Ach,...</td>\n",
       "      <td>39</td>\n",
       "      <td>2020-04-27 16:42:28</td>\n",
       "      <td>18</td>\n",
       "    </tr>\n",
       "    <tr>\n",
       "      <th>1</th>\n",
       "      <td>Sollte das neue Outro von Arte Karambolage wer...</td>\n",
       "      <td>4</td>\n",
       "      <td>2020-04-27 16:15:49</td>\n",
       "      <td>8</td>\n",
       "    </tr>\n",
       "    <tr>\n",
       "      <th>2</th>\n",
       "      <td>Glückwunsch, Bruder</td>\n",
       "      <td>8</td>\n",
       "      <td>2020-04-27 14:20:42</td>\n",
       "      <td>2</td>\n",
       "    </tr>\n",
       "    <tr>\n",
       "      <th>3</th>\n",
       "      <td>Who the fuck cares</td>\n",
       "      <td>-26</td>\n",
       "      <td>2020-04-27 08:33:33</td>\n",
       "      <td>4</td>\n",
       "    </tr>\n",
       "    <tr>\n",
       "      <th>4</th>\n",
       "      <td>Sorry, bin kein Weeb</td>\n",
       "      <td>-26</td>\n",
       "      <td>2020-04-27 08:33:14</td>\n",
       "      <td>4</td>\n",
       "    </tr>\n",
       "    <tr>\n",
       "      <th>...</th>\n",
       "      <td>...</td>\n",
       "      <td>...</td>\n",
       "      <td>...</td>\n",
       "      <td>...</td>\n",
       "    </tr>\n",
       "    <tr>\n",
       "      <th>995</th>\n",
       "      <td>Bist immer herzlich willkommen auf /r/brote. D...</td>\n",
       "      <td>17</td>\n",
       "      <td>2020-03-25 16:51:59</td>\n",
       "      <td>12</td>\n",
       "    </tr>\n",
       "    <tr>\n",
       "      <th>996</th>\n",
       "      <td>Nee, kann heute morgen nur mit Brotkot dienen</td>\n",
       "      <td>24</td>\n",
       "      <td>2020-03-25 16:21:39</td>\n",
       "      <td>8</td>\n",
       "    </tr>\n",
       "    <tr>\n",
       "      <th>997</th>\n",
       "      <td>Ach ist eh zu spät. Jetzt wissen halt 3, 4 Leu...</td>\n",
       "      <td>3</td>\n",
       "      <td>2020-03-25 16:12:37</td>\n",
       "      <td>34</td>\n",
       "    </tr>\n",
       "    <tr>\n",
       "      <th>998</th>\n",
       "      <td>Jeder auf /r/de ist /u/kotkaiser außer dir</td>\n",
       "      <td>16</td>\n",
       "      <td>2020-03-25 16:04:36</td>\n",
       "      <td>7</td>\n",
       "    </tr>\n",
       "    <tr>\n",
       "      <th>999</th>\n",
       "      <td>Ich nehme das mal als Kompliment. Ihr sollt tr...</td>\n",
       "      <td>3</td>\n",
       "      <td>2020-03-25 15:46:04</td>\n",
       "      <td>13</td>\n",
       "    </tr>\n",
       "  </tbody>\n",
       "</table>\n",
       "<p>1000 rows × 4 columns</p>\n",
       "</div>"
      ],
      "text/plain": [
       "                                                  body  score  \\\n",
       "0    \"Sach ma, wat macht dein Nachbar da?\"\\n\\n\"Ach,...     39   \n",
       "1    Sollte das neue Outro von Arte Karambolage wer...      4   \n",
       "2                                  Glückwunsch, Bruder      8   \n",
       "3                                   Who the fuck cares    -26   \n",
       "4                                 Sorry, bin kein Weeb    -26   \n",
       "..                                                 ...    ...   \n",
       "995  Bist immer herzlich willkommen auf /r/brote. D...     17   \n",
       "996      Nee, kann heute morgen nur mit Brotkot dienen     24   \n",
       "997  Ach ist eh zu spät. Jetzt wissen halt 3, 4 Leu...      3   \n",
       "998         Jeder auf /r/de ist /u/kotkaiser außer dir     16   \n",
       "999  Ich nehme das mal als Kompliment. Ihr sollt tr...      3   \n",
       "\n",
       "                 created  word_num  \n",
       "0    2020-04-27 16:42:28        18  \n",
       "1    2020-04-27 16:15:49         8  \n",
       "2    2020-04-27 14:20:42         2  \n",
       "3    2020-04-27 08:33:33         4  \n",
       "4    2020-04-27 08:33:14         4  \n",
       "..                   ...       ...  \n",
       "995  2020-03-25 16:51:59        12  \n",
       "996  2020-03-25 16:21:39         8  \n",
       "997  2020-03-25 16:12:37        34  \n",
       "998  2020-03-25 16:04:36         7  \n",
       "999  2020-03-25 15:46:04        13  \n",
       "\n",
       "[1000 rows x 4 columns]"
      ]
     },
     "execution_count": 9,
     "metadata": {},
     "output_type": "execute_result"
    }
   ],
   "source": [
    "redditor"
   ]
  },
  {
   "cell_type": "code",
   "execution_count": 22,
   "metadata": {},
   "outputs": [],
   "source": [
    "# number of words to score \n",
    "\n",
    "def score_word_scatter(dataframe):\n",
    "    x_axis = dataframe['score']\n",
    "    y_axis = dataframe['word_num']\n",
    "    sns.scatterplot(x_axis, y_axis)"
   ]
  },
  {
   "cell_type": "code",
   "execution_count": 23,
   "metadata": {},
   "outputs": [
    {
     "data": {
      "image/png": "[encoded data removed]",
      "text/plain": [
       "<Figure size 432x288 with 1 Axes>"
      ]
     },
     "metadata": {
      "needs_background": "light"
     },
     "output_type": "display_data"
    }
   ],
   "source": [
    "score_word_scatter(redditor)"
   ]
  },
  {
   "cell_type": "code",
   "execution_count": 20,
   "metadata": {},
   "outputs": [],
   "source": [
    "# loading all comments within a submission \n",
    "\n",
    "comments = pd.read_csv('reddit_comments_2020-04-19', index_col=0)"
   ]
  },
  {
   "cell_type": "code",
   "execution_count": 24,
   "metadata": {},
   "outputs": [],
   "source": [
    "comments = word_counter(comments)"
   ]
  },
  {
   "cell_type": "code",
   "execution_count": 30,
   "metadata": {},
   "outputs": [
    {
     "data": {
      "text/html": [
       "<div>\n",
       "<style scoped>\n",
       "    .dataframe tbody tr th:only-of-type {\n",
       "        vertical-align: middle;\n",
       "    }\n",
       "\n",
       "    .dataframe tbody tr th {\n",
       "        vertical-align: top;\n",
       "    }\n",
       "\n",
       "    .dataframe thead th {\n",
       "        text-align: right;\n",
       "    }\n",
       "</style>\n",
       "<table border=\"1\" class=\"dataframe\">\n",
       "  <thead>\n",
       "    <tr style=\"text-align: right;\">\n",
       "      <th></th>\n",
       "      <th>body</th>\n",
       "      <th>score</th>\n",
       "      <th>author</th>\n",
       "      <th>created</th>\n",
       "      <th>word_num</th>\n",
       "    </tr>\n",
       "  </thead>\n",
       "  <tbody>\n",
       "    <tr>\n",
       "      <th>0</th>\n",
       "      <td>Perlen des Lokaljournalismus...nur auf traurig...</td>\n",
       "      <td>1503</td>\n",
       "      <td>welcometobdude</td>\n",
       "      <td>1.587238e+09</td>\n",
       "      <td>8</td>\n",
       "    </tr>\n",
       "    <tr>\n",
       "      <th>1</th>\n",
       "      <td>Quelle: Hessisch-Niedersächsische Allgemeine v...</td>\n",
       "      <td>371</td>\n",
       "      <td>hummel124</td>\n",
       "      <td>1.587238e+09</td>\n",
       "      <td>5</td>\n",
       "    </tr>\n",
       "    <tr>\n",
       "      <th>2</th>\n",
       "      <td>Das sind ein bisschen mehr als 9 Millionen pro...</td>\n",
       "      <td>406</td>\n",
       "      <td>ohvalox</td>\n",
       "      <td>1.587240e+09</td>\n",
       "      <td>45</td>\n",
       "    </tr>\n",
       "    <tr>\n",
       "      <th>3</th>\n",
       "      <td>Hört sich nach einem militanten FC Bayern + Sp...</td>\n",
       "      <td>705</td>\n",
       "      <td>Deto9000</td>\n",
       "      <td>1.587238e+09</td>\n",
       "      <td>15</td>\n",
       "    </tr>\n",
       "    <tr>\n",
       "      <th>4</th>\n",
       "      <td>1. amazon chef bezos beutet seine arbeiter aus...</td>\n",
       "      <td>281</td>\n",
       "      <td>Samasoku</td>\n",
       "      <td>1.587248e+09</td>\n",
       "      <td>54</td>\n",
       "    </tr>\n",
       "    <tr>\n",
       "      <th>...</th>\n",
       "      <td>...</td>\n",
       "      <td>...</td>\n",
       "      <td>...</td>\n",
       "      <td>...</td>\n",
       "      <td>...</td>\n",
       "    </tr>\n",
       "    <tr>\n",
       "      <th>613</th>\n",
       "      <td>Ach Brudi, Menschen als nutzlos bezeichnen mac...</td>\n",
       "      <td>3</td>\n",
       "      <td>MCBeathoven</td>\n",
       "      <td>1.587249e+09</td>\n",
       "      <td>40</td>\n",
       "    </tr>\n",
       "    <tr>\n",
       "      <th>614</th>\n",
       "      <td>&gt; Naja, der freie Markt mit Angebot und Nachfr...</td>\n",
       "      <td>1</td>\n",
       "      <td>Armleuchterchen</td>\n",
       "      <td>1.587307e+09</td>\n",
       "      <td>775</td>\n",
       "    </tr>\n",
       "    <tr>\n",
       "      <th>615</th>\n",
       "      <td>In einem gewissen Maße ist das nachvollziehbar...</td>\n",
       "      <td>1</td>\n",
       "      <td>Armleuchterchen</td>\n",
       "      <td>1.587308e+09</td>\n",
       "      <td>238</td>\n",
       "    </tr>\n",
       "    <tr>\n",
       "      <th>616</th>\n",
       "      <td>Hat sich die Familie denn angesehen, wie man m...</td>\n",
       "      <td>1</td>\n",
       "      <td>IATAasdf</td>\n",
       "      <td>1.587251e+09</td>\n",
       "      <td>38</td>\n",
       "    </tr>\n",
       "    <tr>\n",
       "      <th>617</th>\n",
       "      <td>&gt; Den Markt an sich finde ich gar keine schlec...</td>\n",
       "      <td>1</td>\n",
       "      <td>Bigluser</td>\n",
       "      <td>1.587319e+09</td>\n",
       "      <td>298</td>\n",
       "    </tr>\n",
       "  </tbody>\n",
       "</table>\n",
       "<p>618 rows × 5 columns</p>\n",
       "</div>"
      ],
      "text/plain": [
       "                                                  body  score  \\\n",
       "0    Perlen des Lokaljournalismus...nur auf traurig...   1503   \n",
       "1    Quelle: Hessisch-Niedersächsische Allgemeine v...    371   \n",
       "2    Das sind ein bisschen mehr als 9 Millionen pro...    406   \n",
       "3    Hört sich nach einem militanten FC Bayern + Sp...    705   \n",
       "4    1. amazon chef bezos beutet seine arbeiter aus...    281   \n",
       "..                                                 ...    ...   \n",
       "613  Ach Brudi, Menschen als nutzlos bezeichnen mac...      3   \n",
       "614  > Naja, der freie Markt mit Angebot und Nachfr...      1   \n",
       "615  In einem gewissen Maße ist das nachvollziehbar...      1   \n",
       "616  Hat sich die Familie denn angesehen, wie man m...      1   \n",
       "617  > Den Markt an sich finde ich gar keine schlec...      1   \n",
       "\n",
       "              author       created  word_num  \n",
       "0     welcometobdude  1.587238e+09         8  \n",
       "1          hummel124  1.587238e+09         5  \n",
       "2            ohvalox  1.587240e+09        45  \n",
       "3           Deto9000  1.587238e+09        15  \n",
       "4           Samasoku  1.587248e+09        54  \n",
       "..               ...           ...       ...  \n",
       "613      MCBeathoven  1.587249e+09        40  \n",
       "614  Armleuchterchen  1.587307e+09       775  \n",
       "615  Armleuchterchen  1.587308e+09       238  \n",
       "616         IATAasdf  1.587251e+09        38  \n",
       "617         Bigluser  1.587319e+09       298  \n",
       "\n",
       "[618 rows x 5 columns]"
      ]
     },
     "execution_count": 30,
     "metadata": {},
     "output_type": "execute_result"
    }
   ],
   "source": [
    "comments"
   ]
  },
  {
   "cell_type": "code",
   "execution_count": 33,
   "metadata": {},
   "outputs": [
    {
     "data": {
      "text/plain": [
       "author             score\n",
       "1_442xT_Cubed      0        2\n",
       "                   1        4\n",
       "2157345            7        2\n",
       "5up3rK4m16uru      0        2\n",
       "95DarkFireII       28       2\n",
       "                           ..\n",
       "wilisi             1        2\n",
       "                   12       2\n",
       "x0xk               4        2\n",
       "yoaw               7        2\n",
       "you_lost-the_game  3        2\n",
       "Name: author, Length: 254, dtype: int64"
      ]
     },
     "execution_count": 33,
     "metadata": {},
     "output_type": "execute_result"
    }
   ],
   "source": [
    "comments.groupby(['author', 'score'])['author'].count()"
   ]
  },
  {
   "cell_type": "code",
   "execution_count": 34,
   "metadata": {},
   "outputs": [
    {
     "data": {
      "text/plain": [
       "body        „Jeff Bezos und gierig nach Geld?? Nein, das k...\n",
       "score                                                    1503\n",
       "created                                           1.58732e+09\n",
       "word_num                                                  775\n",
       "dtype: object"
      ]
     },
     "execution_count": 34,
     "metadata": {},
     "output_type": "execute_result"
    }
   ],
   "source": [
    "comments.max()"
   ]
  },
  {
   "cell_type": "code",
   "execution_count": 49,
   "metadata": {},
   "outputs": [
    {
     "data": {
      "text/plain": [
       "author\n",
       "you_lost-the_game       2\n",
       "Principal_Insultant     2\n",
       "gatonato                2\n",
       "PlsTurnAround           2\n",
       "PicturesOfRichard       2\n",
       "                       ..\n",
       "Brudi7                 10\n",
       "REMagic42              12\n",
       "Gysinator              13\n",
       "mki_                   14\n",
       "IATAasdf               44\n",
       "Name: author, Length: 180, dtype: int64"
      ]
     },
     "execution_count": 49,
     "metadata": {},
     "output_type": "execute_result"
    }
   ],
   "source": [
    "comments.groupby('author')['author'].count().sort_values()"
   ]
  },
  {
   "cell_type": "code",
   "execution_count": 52,
   "metadata": {},
   "outputs": [
    {
     "data": {
      "text/plain": [
       "((618, 5), (181,))"
      ]
     },
     "execution_count": 52,
     "metadata": {},
     "output_type": "execute_result"
    }
   ],
   "source": [
    "comments.shape, comments['author'].unique().shape"
   ]
  },
  {
   "cell_type": "code",
   "execution_count": 54,
   "metadata": {},
   "outputs": [
    {
     "data": {
      "text/plain": [
       "author\n",
       "you_lost-the_game       2\n",
       "Principal_Insultant     2\n",
       "gatonato                2\n",
       "PlsTurnAround           2\n",
       "PicturesOfRichard       2\n",
       "                       ..\n",
       "Brudi7                 10\n",
       "REMagic42              12\n",
       "Gysinator              13\n",
       "mki_                   14\n",
       "IATAasdf               44\n",
       "Name: score, Length: 180, dtype: int64"
      ]
     },
     "execution_count": 54,
     "metadata": {},
     "output_type": "execute_result"
    }
   ],
   "source": [
    "comments.groupby('author')['score'].count().sort_values()"
   ]
  },
  {
   "cell_type": "code",
   "execution_count": 128,
   "metadata": {},
   "outputs": [
    {
     "data": {
      "text/plain": [
       "Index(['1_442xT_Cubed', '2157345', '5up3rK4m16uru', '95DarkFireII',\n",
       "       'Achmedtheanimal', 'Adlersohn', 'AngelOfLilies', 'Armleuchterchen',\n",
       "       'BierKippeMett', 'Bigluser',\n",
       "       ...\n",
       "       'tobit94', 'todbot1337', 'tzippy84', 'variablefighter_vf-1',\n",
       "       'vinvancent', 'welcometobdude', 'wilisi', 'x0xk', 'yoaw',\n",
       "       'you_lost-the_game'],\n",
       "      dtype='object', name='author', length=180)"
      ]
     },
     "execution_count": 128,
     "metadata": {},
     "output_type": "execute_result"
    }
   ],
   "source": [
    "comments.groupby('author').count().index"
   ]
  },
  {
   "cell_type": "markdown",
   "metadata": {},
   "source": [
    "### How are the comments scores within a submission distributed?"
   ]
  },
  {
   "cell_type": "code",
   "execution_count": 142,
   "metadata": {},
   "outputs": [
    {
     "data": {
      "text/plain": [
       "<matplotlib.axes._subplots.AxesSubplot at 0x1a26875650>"
      ]
     },
     "execution_count": 142,
     "metadata": {},
     "output_type": "execute_result"
    },
    {
     "data": {
      "image/png": "[encoded data removed]",
      "text/plain": [
       "<Figure size 432x288 with 1 Axes>"
      ]
     },
     "metadata": {
      "needs_background": "light"
     },
     "output_type": "display_data"
    }
   ],
   "source": [
    "comments.groupby('author')['score'].sum().sort_values().plot(x='author', y='score',kind='bar')"
   ]
  },
  {
   "cell_type": "code",
   "execution_count": 125,
   "metadata": {},
   "outputs": [],
   "source": [
    "# finding only those redditors where the accumulated score is > 2\n",
    "reduced_comm = comments.groupby('author')['author'].count().sort_values()\n",
    "reduced_comm = reduced_comm[reduced_comm >3]\n",
    "author_filter = reduced_comm.index"
   ]
  },
  {
   "cell_type": "code",
   "execution_count": 117,
   "metadata": {},
   "outputs": [],
   "source": [
    "# creating a more interesting plot with only the most intersting authors \n",
    "\n",
    "clean_comms = comments[comments['author'].isin(author_filter)]"
   ]
  },
  {
   "cell_type": "code",
   "execution_count": 126,
   "metadata": {},
   "outputs": [
    {
     "data": {
      "text/plain": [
       "<matplotlib.axes._subplots.AxesSubplot at 0x1a25e583d0>"
      ]
     },
     "execution_count": 126,
     "metadata": {},
     "output_type": "execute_result"
    },
    {
     "data": {
      "image/png": "[encoded data removed]",
      "text/plain": [
       "<Figure size 432x288 with 1 Axes>"
      ]
     },
     "metadata": {
      "needs_background": "light"
     },
     "output_type": "display_data"
    }
   ],
   "source": [
    "x = clean_comms.groupby('author').count().index\n",
    "y = clean_comms.groupby('author')['author'].count()\n",
    "size = clean_comms.groupby('author')['score'].sum()\n",
    "\n",
    "sns.scatterplot(x=x, y=y, size=size)"
   ]
  },
  {
   "cell_type": "code",
   "execution_count": 127,
   "metadata": {},
   "outputs": [
    {
     "data": {
      "image/png": "[encoded data removed]",
      "text/plain": [
       "<Figure size 720x360 with 1 Axes>"
      ]
     },
     "metadata": {
      "needs_background": "light"
     },
     "output_type": "display_data"
    }
   ],
   "source": [
    "plt.figure(figsize=(10,5))\n",
    "chart = sns.scatterplot(\n",
    "    x=x,\n",
    "    y=y,\n",
    "    size=size\n",
    ")\n",
    "chart.set_xticklabels(x,rotation=90)\n",
    "chart.set(xlabel='redditor', ylabel='number of comments')\n",
    "plt.show()"
   ]
  },
  {
   "cell_type": "code",
   "execution_count": null,
   "metadata": {},
   "outputs": [],
   "source": []
  }
 ],
 "metadata": {
  "kernelspec": {
   "display_name": "Python 3",
   "language": "python",
   "name": "python3"
  },
  "language_info": {
   "codemirror_mode": {
    "name": "ipython",
    "version": 3
   },
   "file_extension": ".py",
   "mimetype": "text/x-python",
   "name": "python",
   "nbconvert_exporter": "python",
   "pygments_lexer": "ipython3",
   "version": "3.7.7"
  }
 },
 "nbformat": 4,
 "nbformat_minor": 4
}
